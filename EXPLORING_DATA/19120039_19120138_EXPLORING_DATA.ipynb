{
 "cells": [
  {
   "cell_type": "markdown",
   "id": "5cb68f17",
   "metadata": {},
   "source": [
    "# PHẦN 2: KHÁM PHÁ DỮ LIỆU"
   ]
  },
  {
   "cell_type": "markdown",
   "id": "22655688",
   "metadata": {},
   "source": [
    "&#9889; **Bảng phân công nhóm**:"
   ]
  },
  {
   "cell_type": "markdown",
   "id": "6d4a4a0e",
   "metadata": {},
   "source": [
    "|Họ và tên|MSSV|Phân công| \n",
    "|-----|-------|------| \n",
    "|Phan Minh Triết|19120039|Khám phá file \"Users.csv\", \"Playlists.csv\"| \n",
    "|Trần Đức Thuỵ|19120138|Khám phá file \"Tracks.csv\", \"Playlists.csv\"|"
   ]
  },
  {
   "cell_type": "markdown",
   "id": "17df104f",
   "metadata": {},
   "source": [
    "[LINK ĐẾN THÙNG CHỨA GITHUB](https://github.com/19120039/DACK_LTKHDL)"
   ]
  },
  {
   "cell_type": "markdown",
   "id": "413a90e3",
   "metadata": {},
   "source": [
    " ##  Đặt vấn đề:"
   ]
  },
  {
   "cell_type": "markdown",
   "id": "d6b7f30d",
   "metadata": {},
   "source": [
    "- Một công ty phân phối âm nhạc Spotify đang phủ sóng khắp cả toàn cầu, được giới chuyên môn và người dùng đánh giá rất tích cực. Đây là công ty, doanh nghiệp phát triển ứng dụng tên Spotify phục vụ nhu cầu phân phối các bài hát nổi tiếng bởi những người dùng User và có trả phí để mở thêm nhiều tính năng tiện lợi hơn. Đội ngũ của họ là những người sáng tạo, phân tích dữ liệu người dùng. Một hôm với chiến lược bành trướng, theo sự chỉ đạo của đội ngũ phân tích dữ liệu, các nhân viên bắt đầu \"do thám\" trang web âm nhạc lớn - SoundCloud là một trang web, ứng dụng cho những người dùng cover âm nhạc tương tác với nhau bằng cách lấy những dữ liệu \"Users\", \"Tracks\", \"Playlists\" để phân tích. \n",
    "- Vấn đề được đặt ra: Ta sẽ đào sâu về những dữ liệu này và biết được những thông tin về người dùng truy cập, lượng track qua các năm cho đến những playlists, qua đó có thể áp dụng vào chiến lược phát triển của công ty."
   ]
  },
  {
   "cell_type": "markdown",
   "id": "f2773e7a",
   "metadata": {},
   "source": [
    "Vấn đề đã có, giờ ta bắt đầu tìm hiểu thôi nào !"
   ]
  },
  {
   "cell_type": "markdown",
   "id": "e9388e76",
   "metadata": {},
   "source": [
    "## Thư viện sử dụng:"
   ]
  },
  {
   "cell_type": "code",
   "execution_count": 1,
   "id": "e6d09b6f",
   "metadata": {},
   "outputs": [],
   "source": [
    "import matplotlib.pyplot as plt\n",
    "import pandas as pd \n",
    "import numpy as np\n",
    "from datetime import datetime"
   ]
  },
  {
   "cell_type": "markdown",
   "id": "a0c81bf5",
   "metadata": {},
   "source": [
    "## Khám phá dữ liệu:"
   ]
  },
  {
   "cell_type": "markdown",
   "id": "3e133db9",
   "metadata": {},
   "source": [
    "### Phần 1: Dữ liệu Users"
   ]
  },
  {
   "cell_type": "markdown",
   "id": "d93d2721",
   "metadata": {},
   "source": [
    "#### Khám phá chi tiết những dữ liệu biết nói:"
   ]
  },
  {
   "cell_type": "markdown",
   "id": "ef059ed4",
   "metadata": {},
   "source": [
    "**1.1. Dữ liệu có bao nhiêu dòng và bao nhiêu cột?**"
   ]
  },
  {
   "cell_type": "code",
   "execution_count": 77,
   "id": "bf4c7d3f",
   "metadata": {},
   "outputs": [
    {
     "data": {
      "text/html": [
       "<div>\n",
       "<style scoped>\n",
       "    .dataframe tbody tr th:only-of-type {\n",
       "        vertical-align: middle;\n",
       "    }\n",
       "\n",
       "    .dataframe tbody tr th {\n",
       "        vertical-align: top;\n",
       "    }\n",
       "\n",
       "    .dataframe thead th {\n",
       "        text-align: right;\n",
       "    }\n",
       "</style>\n",
       "<table border=\"1\" class=\"dataframe\">\n",
       "  <thead>\n",
       "    <tr style=\"text-align: right;\">\n",
       "      <th></th>\n",
       "      <th>username</th>\n",
       "      <th>full_name</th>\n",
       "      <th>id</th>\n",
       "      <th>city</th>\n",
       "      <th>country_code</th>\n",
       "      <th>followers_count</th>\n",
       "      <th>permalink_url</th>\n",
       "      <th>avatar_url</th>\n",
       "      <th>verified</th>\n",
       "      <th>last_modified</th>\n",
       "      <th>kind</th>\n",
       "    </tr>\n",
       "  </thead>\n",
       "  <tbody>\n",
       "    <tr>\n",
       "      <th>0</th>\n",
       "      <td>Assala</td>\n",
       "      <td>Assala Nasri</td>\n",
       "      <td>102433987</td>\n",
       "      <td>NaN</td>\n",
       "      <td>NaN</td>\n",
       "      <td>353686</td>\n",
       "      <td>https://soundcloud.com/assalaofficial</td>\n",
       "      <td>https://i1.sndcdn.com/avatars-000459010359-q41...</td>\n",
       "      <td>True</td>\n",
       "      <td>2021-10-03T00:00:01Z</td>\n",
       "      <td>user</td>\n",
       "    </tr>\n",
       "    <tr>\n",
       "      <th>1</th>\n",
       "      <td>Levi Patel</td>\n",
       "      <td>Levi Patel</td>\n",
       "      <td>1776079</td>\n",
       "      <td>Auckland</td>\n",
       "      <td>NZ</td>\n",
       "      <td>13476</td>\n",
       "      <td>https://soundcloud.com/levipatel</td>\n",
       "      <td>https://i1.sndcdn.com/avatars-000660682205-k0g...</td>\n",
       "      <td>False</td>\n",
       "      <td>2020-02-25T06:26:57Z</td>\n",
       "      <td>user</td>\n",
       "    </tr>\n",
       "    <tr>\n",
       "      <th>2</th>\n",
       "      <td>Alice Baldwin</td>\n",
       "      <td>NaN</td>\n",
       "      <td>93750493</td>\n",
       "      <td>Berlin</td>\n",
       "      <td>NaN</td>\n",
       "      <td>4441</td>\n",
       "      <td>https://soundcloud.com/alice_baldwin</td>\n",
       "      <td>https://i1.sndcdn.com/avatars-LcqLIYPOHpKctU5z...</td>\n",
       "      <td>False</td>\n",
       "      <td>2021-09-13T10:49:41Z</td>\n",
       "      <td>user</td>\n",
       "    </tr>\n",
       "    <tr>\n",
       "      <th>3</th>\n",
       "      <td>Simeon Walker</td>\n",
       "      <td>Leeds, UK</td>\n",
       "      <td>130872163</td>\n",
       "      <td>Pianist &amp; Composer</td>\n",
       "      <td>NaN</td>\n",
       "      <td>4944</td>\n",
       "      <td>https://soundcloud.com/simeonwalkermusic</td>\n",
       "      <td>https://i1.sndcdn.com/avatars-gvVb4EzELDpbBFdx...</td>\n",
       "      <td>False</td>\n",
       "      <td>2021-10-29T07:16:23Z</td>\n",
       "      <td>user</td>\n",
       "    </tr>\n",
       "    <tr>\n",
       "      <th>4</th>\n",
       "      <td>Serein</td>\n",
       "      <td>NaN</td>\n",
       "      <td>1871</td>\n",
       "      <td>NaN</td>\n",
       "      <td>GB</td>\n",
       "      <td>8044</td>\n",
       "      <td>https://soundcloud.com/serein</td>\n",
       "      <td>https://i1.sndcdn.com/avatars-000154943922-qzz...</td>\n",
       "      <td>True</td>\n",
       "      <td>2021-10-04T15:26:43Z</td>\n",
       "      <td>user</td>\n",
       "    </tr>\n",
       "    <tr>\n",
       "      <th>...</th>\n",
       "      <td>...</td>\n",
       "      <td>...</td>\n",
       "      <td>...</td>\n",
       "      <td>...</td>\n",
       "      <td>...</td>\n",
       "      <td>...</td>\n",
       "      <td>...</td>\n",
       "      <td>...</td>\n",
       "      <td>...</td>\n",
       "      <td>...</td>\n",
       "      <td>...</td>\n",
       "    </tr>\n",
       "    <tr>\n",
       "      <th>1308</th>\n",
       "      <td>Alessia Cara</td>\n",
       "      <td>Alessia Cara</td>\n",
       "      <td>296514710</td>\n",
       "      <td>NaN</td>\n",
       "      <td>NaN</td>\n",
       "      <td>73949</td>\n",
       "      <td>https://soundcloud.com/alessiacara</td>\n",
       "      <td>https://i1.sndcdn.com/avatars-nzmyyEKgsE0lHqnb...</td>\n",
       "      <td>True</td>\n",
       "      <td>2021-09-24T04:05:57Z</td>\n",
       "      <td>user</td>\n",
       "    </tr>\n",
       "    <tr>\n",
       "      <th>1309</th>\n",
       "      <td>Alessia Cara</td>\n",
       "      <td>Alessia Cara</td>\n",
       "      <td>296514710</td>\n",
       "      <td>NaN</td>\n",
       "      <td>NaN</td>\n",
       "      <td>73949</td>\n",
       "      <td>https://soundcloud.com/alessiacara</td>\n",
       "      <td>https://i1.sndcdn.com/avatars-nzmyyEKgsE0lHqnb...</td>\n",
       "      <td>True</td>\n",
       "      <td>2021-09-24T04:05:57Z</td>\n",
       "      <td>user</td>\n",
       "    </tr>\n",
       "    <tr>\n",
       "      <th>1310</th>\n",
       "      <td>Alessia Cara</td>\n",
       "      <td>Alessia Cara</td>\n",
       "      <td>296514710</td>\n",
       "      <td>NaN</td>\n",
       "      <td>NaN</td>\n",
       "      <td>73949</td>\n",
       "      <td>https://soundcloud.com/alessiacara</td>\n",
       "      <td>https://i1.sndcdn.com/avatars-nzmyyEKgsE0lHqnb...</td>\n",
       "      <td>True</td>\n",
       "      <td>2021-09-24T04:05:57Z</td>\n",
       "      <td>user</td>\n",
       "    </tr>\n",
       "    <tr>\n",
       "      <th>1311</th>\n",
       "      <td>Alessia Cara</td>\n",
       "      <td>Alessia Cara</td>\n",
       "      <td>296514710</td>\n",
       "      <td>NaN</td>\n",
       "      <td>NaN</td>\n",
       "      <td>73949</td>\n",
       "      <td>https://soundcloud.com/alessiacara</td>\n",
       "      <td>https://i1.sndcdn.com/avatars-nzmyyEKgsE0lHqnb...</td>\n",
       "      <td>True</td>\n",
       "      <td>2021-09-24T04:05:57Z</td>\n",
       "      <td>user</td>\n",
       "    </tr>\n",
       "    <tr>\n",
       "      <th>1312</th>\n",
       "      <td>Alessia Cara</td>\n",
       "      <td>Alessia Cara</td>\n",
       "      <td>296514710</td>\n",
       "      <td>NaN</td>\n",
       "      <td>NaN</td>\n",
       "      <td>73949</td>\n",
       "      <td>https://soundcloud.com/alessiacara</td>\n",
       "      <td>https://i1.sndcdn.com/avatars-nzmyyEKgsE0lHqnb...</td>\n",
       "      <td>True</td>\n",
       "      <td>2021-09-24T04:05:57Z</td>\n",
       "      <td>user</td>\n",
       "    </tr>\n",
       "  </tbody>\n",
       "</table>\n",
       "<p>1313 rows × 11 columns</p>\n",
       "</div>"
      ],
      "text/plain": [
       "           username     full_name         id                city country_code  \\\n",
       "0            Assala  Assala Nasri  102433987                 NaN          NaN   \n",
       "1        Levi Patel    Levi Patel    1776079            Auckland           NZ   \n",
       "2     Alice Baldwin           NaN   93750493              Berlin          NaN   \n",
       "3     Simeon Walker     Leeds, UK  130872163  Pianist & Composer          NaN   \n",
       "4            Serein           NaN       1871                 NaN           GB   \n",
       "...             ...           ...        ...                 ...          ...   \n",
       "1308   Alessia Cara  Alessia Cara  296514710                 NaN          NaN   \n",
       "1309   Alessia Cara  Alessia Cara  296514710                 NaN          NaN   \n",
       "1310   Alessia Cara  Alessia Cara  296514710                 NaN          NaN   \n",
       "1311   Alessia Cara  Alessia Cara  296514710                 NaN          NaN   \n",
       "1312   Alessia Cara  Alessia Cara  296514710                 NaN          NaN   \n",
       "\n",
       "      followers_count                             permalink_url  \\\n",
       "0              353686     https://soundcloud.com/assalaofficial   \n",
       "1               13476          https://soundcloud.com/levipatel   \n",
       "2                4441      https://soundcloud.com/alice_baldwin   \n",
       "3                4944  https://soundcloud.com/simeonwalkermusic   \n",
       "4                8044             https://soundcloud.com/serein   \n",
       "...               ...                                       ...   \n",
       "1308            73949        https://soundcloud.com/alessiacara   \n",
       "1309            73949        https://soundcloud.com/alessiacara   \n",
       "1310            73949        https://soundcloud.com/alessiacara   \n",
       "1311            73949        https://soundcloud.com/alessiacara   \n",
       "1312            73949        https://soundcloud.com/alessiacara   \n",
       "\n",
       "                                             avatar_url  verified  \\\n",
       "0     https://i1.sndcdn.com/avatars-000459010359-q41...      True   \n",
       "1     https://i1.sndcdn.com/avatars-000660682205-k0g...     False   \n",
       "2     https://i1.sndcdn.com/avatars-LcqLIYPOHpKctU5z...     False   \n",
       "3     https://i1.sndcdn.com/avatars-gvVb4EzELDpbBFdx...     False   \n",
       "4     https://i1.sndcdn.com/avatars-000154943922-qzz...      True   \n",
       "...                                                 ...       ...   \n",
       "1308  https://i1.sndcdn.com/avatars-nzmyyEKgsE0lHqnb...      True   \n",
       "1309  https://i1.sndcdn.com/avatars-nzmyyEKgsE0lHqnb...      True   \n",
       "1310  https://i1.sndcdn.com/avatars-nzmyyEKgsE0lHqnb...      True   \n",
       "1311  https://i1.sndcdn.com/avatars-nzmyyEKgsE0lHqnb...      True   \n",
       "1312  https://i1.sndcdn.com/avatars-nzmyyEKgsE0lHqnb...      True   \n",
       "\n",
       "             last_modified  kind  \n",
       "0     2021-10-03T00:00:01Z  user  \n",
       "1     2020-02-25T06:26:57Z  user  \n",
       "2     2021-09-13T10:49:41Z  user  \n",
       "3     2021-10-29T07:16:23Z  user  \n",
       "4     2021-10-04T15:26:43Z  user  \n",
       "...                    ...   ...  \n",
       "1308  2021-09-24T04:05:57Z  user  \n",
       "1309  2021-09-24T04:05:57Z  user  \n",
       "1310  2021-09-24T04:05:57Z  user  \n",
       "1311  2021-09-24T04:05:57Z  user  \n",
       "1312  2021-09-24T04:05:57Z  user  \n",
       "\n",
       "[1313 rows x 11 columns]"
      ]
     },
     "execution_count": 77,
     "metadata": {},
     "output_type": "execute_result"
    }
   ],
   "source": [
    "# Đọc file Users.csv\n",
    "filename = 'Users.csv' \n",
    "user_df = pd.read_csv(filename, header = 0, encoding = 'utf-8')\n",
    "user_df"
   ]
  },
  {
   "cell_type": "code",
   "execution_count": 78,
   "id": "0cabf175",
   "metadata": {},
   "outputs": [
    {
     "name": "stdout",
     "output_type": "stream",
     "text": [
      "1313 11\n"
     ]
    }
   ],
   "source": [
    "num_rows = user_df.shape[0]\n",
    "num_cols = user_df.shape[1]\n",
    "print(num_rows, num_cols)"
   ]
  },
  {
   "cell_type": "markdown",
   "id": "f7df33e7",
   "metadata": {},
   "source": [
    "***Như vậy dữ liệu User có 1313 dòng và 11 cột.***"
   ]
  },
  {
   "cell_type": "markdown",
   "id": "8c6643db",
   "metadata": {},
   "source": [
    "**1.2. Dữ liệu mỗi cột có bị lặp không?**"
   ]
  },
  {
   "cell_type": "code",
   "execution_count": 79,
   "id": "c8402eb1",
   "metadata": {},
   "outputs": [
    {
     "name": "stdout",
     "output_type": "stream",
     "text": [
      "831\n"
     ]
    }
   ],
   "source": [
    "count_duplicated = user_df.duplicated(keep = False).sum()\n",
    "print(count_duplicated)"
   ]
  },
  {
   "cell_type": "markdown",
   "id": "47433a5f",
   "metadata": {},
   "source": [
    "Như ta đã thấy có khá nhiều dữ liệu bị trùng. Như vậy ta sẽ xoá bớt những dữ liệu bị trùng và những cột không cần thiết."
   ]
  },
  {
   "cell_type": "code",
   "execution_count": 80,
   "id": "09bd967b",
   "metadata": {},
   "outputs": [
    {
     "data": {
      "text/html": [
       "<div>\n",
       "<style scoped>\n",
       "    .dataframe tbody tr th:only-of-type {\n",
       "        vertical-align: middle;\n",
       "    }\n",
       "\n",
       "    .dataframe tbody tr th {\n",
       "        vertical-align: top;\n",
       "    }\n",
       "\n",
       "    .dataframe thead th {\n",
       "        text-align: right;\n",
       "    }\n",
       "</style>\n",
       "<table border=\"1\" class=\"dataframe\">\n",
       "  <thead>\n",
       "    <tr style=\"text-align: right;\">\n",
       "      <th></th>\n",
       "      <th>username</th>\n",
       "      <th>full_name</th>\n",
       "      <th>id</th>\n",
       "      <th>city</th>\n",
       "      <th>followers_count</th>\n",
       "      <th>permalink_url</th>\n",
       "      <th>avatar_url</th>\n",
       "      <th>last_modified</th>\n",
       "    </tr>\n",
       "  </thead>\n",
       "  <tbody>\n",
       "    <tr>\n",
       "      <th>0</th>\n",
       "      <td>Assala</td>\n",
       "      <td>Assala Nasri</td>\n",
       "      <td>102433987</td>\n",
       "      <td>NaN</td>\n",
       "      <td>353686</td>\n",
       "      <td>https://soundcloud.com/assalaofficial</td>\n",
       "      <td>https://i1.sndcdn.com/avatars-000459010359-q41...</td>\n",
       "      <td>2021-10-03T00:00:01Z</td>\n",
       "    </tr>\n",
       "    <tr>\n",
       "      <th>1</th>\n",
       "      <td>Levi Patel</td>\n",
       "      <td>Levi Patel</td>\n",
       "      <td>1776079</td>\n",
       "      <td>Auckland</td>\n",
       "      <td>13476</td>\n",
       "      <td>https://soundcloud.com/levipatel</td>\n",
       "      <td>https://i1.sndcdn.com/avatars-000660682205-k0g...</td>\n",
       "      <td>2020-02-25T06:26:57Z</td>\n",
       "    </tr>\n",
       "    <tr>\n",
       "      <th>2</th>\n",
       "      <td>Alice Baldwin</td>\n",
       "      <td>NaN</td>\n",
       "      <td>93750493</td>\n",
       "      <td>Berlin</td>\n",
       "      <td>4441</td>\n",
       "      <td>https://soundcloud.com/alice_baldwin</td>\n",
       "      <td>https://i1.sndcdn.com/avatars-LcqLIYPOHpKctU5z...</td>\n",
       "      <td>2021-09-13T10:49:41Z</td>\n",
       "    </tr>\n",
       "    <tr>\n",
       "      <th>3</th>\n",
       "      <td>Simeon Walker</td>\n",
       "      <td>Leeds, UK</td>\n",
       "      <td>130872163</td>\n",
       "      <td>Pianist &amp; Composer</td>\n",
       "      <td>4944</td>\n",
       "      <td>https://soundcloud.com/simeonwalkermusic</td>\n",
       "      <td>https://i1.sndcdn.com/avatars-gvVb4EzELDpbBFdx...</td>\n",
       "      <td>2021-10-29T07:16:23Z</td>\n",
       "    </tr>\n",
       "    <tr>\n",
       "      <th>4</th>\n",
       "      <td>Serein</td>\n",
       "      <td>NaN</td>\n",
       "      <td>1871</td>\n",
       "      <td>NaN</td>\n",
       "      <td>8044</td>\n",
       "      <td>https://soundcloud.com/serein</td>\n",
       "      <td>https://i1.sndcdn.com/avatars-000154943922-qzz...</td>\n",
       "      <td>2021-10-04T15:26:43Z</td>\n",
       "    </tr>\n",
       "    <tr>\n",
       "      <th>...</th>\n",
       "      <td>...</td>\n",
       "      <td>...</td>\n",
       "      <td>...</td>\n",
       "      <td>...</td>\n",
       "      <td>...</td>\n",
       "      <td>...</td>\n",
       "      <td>...</td>\n",
       "      <td>...</td>\n",
       "    </tr>\n",
       "    <tr>\n",
       "      <th>1297</th>\n",
       "      <td>shnaebidy</td>\n",
       "      <td>NaN</td>\n",
       "      <td>46747904</td>\n",
       "      <td>Scotland</td>\n",
       "      <td>1786</td>\n",
       "      <td>https://soundcloud.com/be-ady-eye</td>\n",
       "      <td>https://i1.sndcdn.com/avatars-000451405896-kvr...</td>\n",
       "      <td>2018-05-31T14:02:49Z</td>\n",
       "    </tr>\n",
       "    <tr>\n",
       "      <th>1298</th>\n",
       "      <td>Ed Sheeran</td>\n",
       "      <td>Ed Sheeran</td>\n",
       "      <td>3685019</td>\n",
       "      <td>NaN</td>\n",
       "      <td>2369964</td>\n",
       "      <td>https://soundcloud.com/edsheeran</td>\n",
       "      <td>https://i1.sndcdn.com/avatars-KRxzijkzJ63MipoA...</td>\n",
       "      <td>2021-10-28T23:05:42Z</td>\n",
       "    </tr>\n",
       "    <tr>\n",
       "      <th>1299</th>\n",
       "      <td>Tylerinacoma</td>\n",
       "      <td>TYLER GLENN</td>\n",
       "      <td>6455125</td>\n",
       "      <td>U/S/A/</td>\n",
       "      <td>1600</td>\n",
       "      <td>https://soundcloud.com/tylerinacoma</td>\n",
       "      <td>https://i1.sndcdn.com/avatars-000029015425-alt...</td>\n",
       "      <td>2012-12-20T05:20:13Z</td>\n",
       "    </tr>\n",
       "    <tr>\n",
       "      <th>1300</th>\n",
       "      <td>ADDAL</td>\n",
       "      <td>NaN</td>\n",
       "      <td>9969027</td>\n",
       "      <td>Milan</td>\n",
       "      <td>122529</td>\n",
       "      <td>https://soundcloud.com/addal</td>\n",
       "      <td>https://i1.sndcdn.com/avatars-000696909823-v6l...</td>\n",
       "      <td>2021-09-27T18:45:37Z</td>\n",
       "    </tr>\n",
       "    <tr>\n",
       "      <th>1303</th>\n",
       "      <td>Alessia Cara</td>\n",
       "      <td>Alessia Cara</td>\n",
       "      <td>296514710</td>\n",
       "      <td>NaN</td>\n",
       "      <td>73949</td>\n",
       "      <td>https://soundcloud.com/alessiacara</td>\n",
       "      <td>https://i1.sndcdn.com/avatars-nzmyyEKgsE0lHqnb...</td>\n",
       "      <td>2021-09-24T04:05:57Z</td>\n",
       "    </tr>\n",
       "  </tbody>\n",
       "</table>\n",
       "<p>694 rows × 8 columns</p>\n",
       "</div>"
      ],
      "text/plain": [
       "           username     full_name         id                city  \\\n",
       "0            Assala  Assala Nasri  102433987                 NaN   \n",
       "1        Levi Patel    Levi Patel    1776079            Auckland   \n",
       "2     Alice Baldwin           NaN   93750493              Berlin   \n",
       "3     Simeon Walker     Leeds, UK  130872163  Pianist & Composer   \n",
       "4            Serein           NaN       1871                 NaN   \n",
       "...             ...           ...        ...                 ...   \n",
       "1297      shnaebidy           NaN   46747904           Scotland    \n",
       "1298     Ed Sheeran    Ed Sheeran    3685019                 NaN   \n",
       "1299   Tylerinacoma   TYLER GLENN    6455125              U/S/A/   \n",
       "1300          ADDAL           NaN    9969027              Milan    \n",
       "1303   Alessia Cara  Alessia Cara  296514710                 NaN   \n",
       "\n",
       "      followers_count                             permalink_url  \\\n",
       "0              353686     https://soundcloud.com/assalaofficial   \n",
       "1               13476          https://soundcloud.com/levipatel   \n",
       "2                4441      https://soundcloud.com/alice_baldwin   \n",
       "3                4944  https://soundcloud.com/simeonwalkermusic   \n",
       "4                8044             https://soundcloud.com/serein   \n",
       "...               ...                                       ...   \n",
       "1297             1786         https://soundcloud.com/be-ady-eye   \n",
       "1298          2369964          https://soundcloud.com/edsheeran   \n",
       "1299             1600       https://soundcloud.com/tylerinacoma   \n",
       "1300           122529              https://soundcloud.com/addal   \n",
       "1303            73949        https://soundcloud.com/alessiacara   \n",
       "\n",
       "                                             avatar_url         last_modified  \n",
       "0     https://i1.sndcdn.com/avatars-000459010359-q41...  2021-10-03T00:00:01Z  \n",
       "1     https://i1.sndcdn.com/avatars-000660682205-k0g...  2020-02-25T06:26:57Z  \n",
       "2     https://i1.sndcdn.com/avatars-LcqLIYPOHpKctU5z...  2021-09-13T10:49:41Z  \n",
       "3     https://i1.sndcdn.com/avatars-gvVb4EzELDpbBFdx...  2021-10-29T07:16:23Z  \n",
       "4     https://i1.sndcdn.com/avatars-000154943922-qzz...  2021-10-04T15:26:43Z  \n",
       "...                                                 ...                   ...  \n",
       "1297  https://i1.sndcdn.com/avatars-000451405896-kvr...  2018-05-31T14:02:49Z  \n",
       "1298  https://i1.sndcdn.com/avatars-KRxzijkzJ63MipoA...  2021-10-28T23:05:42Z  \n",
       "1299  https://i1.sndcdn.com/avatars-000029015425-alt...  2012-12-20T05:20:13Z  \n",
       "1300  https://i1.sndcdn.com/avatars-000696909823-v6l...  2021-09-27T18:45:37Z  \n",
       "1303  https://i1.sndcdn.com/avatars-nzmyyEKgsE0lHqnb...  2021-09-24T04:05:57Z  \n",
       "\n",
       "[694 rows x 8 columns]"
      ]
     },
     "execution_count": 80,
     "metadata": {},
     "output_type": "execute_result"
    }
   ],
   "source": [
    "user_df = user_df.drop_duplicates()\n",
    "user_df = user_df.drop(['country_code','kind', 'verified'], axis = 1)\n",
    "user_df"
   ]
  },
  {
   "cell_type": "markdown",
   "id": "a181c73e",
   "metadata": {},
   "source": [
    "**1.3. Dữ liệu nói lên điều gì?**"
   ]
  },
  {
   "cell_type": "markdown",
   "id": "928e06e0",
   "metadata": {},
   "source": [
    "Ta bắt đầu tìm hiểu từng cột, qua các tên cột và dữ liệu của nó, ta thấy rằng:\n",
    "- `username`: Tên người dùng user\n",
    "- `full_name`: Họ và tên đầy đủ của người dùng\n",
    "- `id`: ID của User\n",
    "- `city`: Thành phố nơi User sống\n",
    "- `followers_count`: Số lượng người theo dõi User này\n",
    "- `permalink_url`: Link dẫn đến trang cá nhân của họ\n",
    "- `avatar_url`: Link hình ảnh avatar của User\n",
    "- `last_modified`: Thời điểm lần cuối User hoạt động chỉnh sửa"
   ]
  },
  {
   "cell_type": "markdown",
   "id": "2889a92b",
   "metadata": {},
   "source": [
    "Ta sẽ tìm hiểu từng cột mang kiểu dữ liệu gì."
   ]
  },
  {
   "cell_type": "code",
   "execution_count": 81,
   "id": "7a6184ae",
   "metadata": {},
   "outputs": [
    {
     "data": {
      "text/plain": [
       "username           object\n",
       "full_name          object\n",
       "id                  int64\n",
       "city               object\n",
       "followers_count     int64\n",
       "permalink_url      object\n",
       "avatar_url         object\n",
       "last_modified      object\n",
       "dtype: object"
      ]
     },
     "execution_count": 81,
     "metadata": {},
     "output_type": "execute_result"
    }
   ],
   "source": [
    "col_dtypes = user_df.dtypes\n",
    "col_dtypes"
   ]
  },
  {
   "cell_type": "markdown",
   "id": "6606ec44",
   "metadata": {},
   "source": [
    "Các nhân viên phân tích dữ liệu sẽ quan tâm gì đến trong bảng này?\n",
    "Thì ta giả định rằng để phân phối sản phẩm theo từng quốc gia, họ sẽ quan tâm đến các cột: `city`, `follower_count`"
   ]
  },
  {
   "cell_type": "markdown",
   "id": "fe354ff2",
   "metadata": {},
   "source": [
    "Có vẻ như ở cột `last_modified` đáng lẽ phải có kiểu dữ liệu 'datetime' nhưng vấn đề ta cần khám phá ở dataset này không sử dụng cột này, ta sẽ bỏ nó đi."
   ]
  },
  {
   "cell_type": "markdown",
   "id": "270f27f7",
   "metadata": {},
   "source": [
    "Ta sẽ vẽ biểu đồ ở 2 cột này. Do số lượng dữ liệu khá nhiều > 500 nên ta sẽ chỉ vẽ biểu đồ tỉ lệ phần trăm với mỗi Quốc gia trong 10 Quốc gia (`city`) mà User xuất thân nhiều nhất."
   ]
  },
  {
   "cell_type": "markdown",
   "id": "c2ee36b5",
   "metadata": {},
   "source": [
    "**1.3.a) Cột `City`:**"
   ]
  },
  {
   "cell_type": "code",
   "execution_count": 46,
   "id": "325552ac",
   "metadata": {},
   "outputs": [
    {
     "data": {
      "text/plain": [
       "cairo              35.294118\n",
       "london             15.966387\n",
       "los angeles        10.084034\n",
       "al qahirah          6.722689\n",
       "toronto             5.882353\n",
       "oslo                5.882353\n",
       "new york            5.882353\n",
       "alexandria          5.882353\n",
       "los angeles, ca     4.201681\n",
       "philadelphia        4.201681\n",
       "Name: city, dtype: float64"
      ]
     },
     "execution_count": 46,
     "metadata": {},
     "output_type": "execute_result"
    }
   ],
   "source": [
    "# Tiền xử lý cột city:\n",
    "user_df['city'] = user_df['city'].str.lower()\n",
    "temp = user_df\n",
    "a = user_df['city'].dropna()\n",
    "# Ta sẽ lấy 10 nước có số lượng Users nhiều nhất\n",
    "most_city_user_come_from = a.value_counts().nlargest(10)\n",
    "most_city_user_come_from = (most_city_user_come_from / most_city_user_come_from.sum()) * 100\n",
    "most_city_user_come_from"
   ]
  },
  {
   "cell_type": "code",
   "execution_count": 52,
   "id": "c7e5e3e8",
   "metadata": {},
   "outputs": [
    {
     "data": {
      "image/png": "[encoded data removed]",
      "text/plain": [
       "<Figure size 720x720 with 1 Axes>"
      ]
     },
     "metadata": {},
     "output_type": "display_data"
    }
   ],
   "source": [
    "# Visualize cột city:\n",
    "f = plt.figure()\n",
    "f.set_figwidth(10)\n",
    "f.set_figheight(10)\n",
    "plt.title('Percent of every city in 10 popular city that Users come from')\n",
    "plt.pie(most_city_user_come_from, labels =  most_city_user_come_from.keys(), startangle = 90, \n",
    "        autopct='%1.2f%%', pctdistance=0.6, labeldistance=1.05, shadow=True)\n",
    "plt.show()"
   ]
  },
  {
   "cell_type": "markdown",
   "id": "91c50e10",
   "metadata": {},
   "source": [
    "*1.3.b) Cột `Followes_count`:*"
   ]
  },
  {
   "cell_type": "code",
   "execution_count": 55,
   "id": "709cdca3",
   "metadata": {},
   "outputs": [
    {
     "data": {
      "text/plain": [
       "<AxesSubplot:title={'center':'Followers Each User'}, xlabel='username'>"
      ]
     },
     "execution_count": 55,
     "metadata": {},
     "output_type": "execute_result"
    },
    {
     "data": {
      "image/png": "[encoded data removed]",
      "text/plain": [
       "<Figure size 1080x720 with 1 Axes>"
      ]
     },
     "metadata": {
      "needs_background": "light"
     },
     "output_type": "display_data"
    }
   ],
   "source": [
    "# Ở cột Follower_count\n",
    "# Lấy 10 dữ liệu đầu tiên\n",
    "a = user_df[1:10]\n",
    "a.plot(x = 'username', y = 'followers_count', kind = 'bar', figsize = (15,10), title = 'Followers Each User', color='brown')"
   ]
  },
  {
   "cell_type": "markdown",
   "id": "f611d274",
   "metadata": {},
   "source": [
    "**Kết luận**: Phân tích viên có thể dựa vào biều đồ trên để đánh giá người dùng rằng:\n",
    "- Những người dùng từ những quốc gia nào, phần lớn họ ở 1 quốc gia hay nhiều quốc gia, chủ yếu ở châu lục nào trên thế giới\n",
    "- Những lượt theo dõi từ những người dùng cho thấy người dùng đang quan tâm về những người dùng post âm nhạc gì, quốc gia nào..."
   ]
  },
  {
   "cell_type": "markdown",
   "id": "0634211a",
   "metadata": {},
   "source": [
    "### Phần 2: Dữ liệu Tracks"
   ]
  },
  {
   "cell_type": "markdown",
   "id": "df8b1ec6",
   "metadata": {},
   "source": [
    "#### Khám phá chi tiết những dữ liệu biết nói:"
   ]
  },
  {
   "cell_type": "markdown",
   "id": "5392dda9",
   "metadata": {},
   "source": [
    "**2.1. Dữ liệu có bao nhiêu dòng và bao nhiêu cột?**"
   ]
  },
  {
   "cell_type": "code",
   "execution_count": 59,
   "id": "2ae9f3e6",
   "metadata": {},
   "outputs": [
    {
     "data": {
      "text/html": [
       "<div>\n",
       "<style scoped>\n",
       "    .dataframe tbody tr th:only-of-type {\n",
       "        vertical-align: middle;\n",
       "    }\n",
       "\n",
       "    .dataframe tbody tr th {\n",
       "        vertical-align: top;\n",
       "    }\n",
       "\n",
       "    .dataframe thead th {\n",
       "        text-align: right;\n",
       "    }\n",
       "</style>\n",
       "<table border=\"1\" class=\"dataframe\">\n",
       "  <thead>\n",
       "    <tr style=\"text-align: right;\">\n",
       "      <th></th>\n",
       "      <th>title</th>\n",
       "      <th>id</th>\n",
       "      <th>genre</th>\n",
       "      <th>caption</th>\n",
       "      <th>description</th>\n",
       "      <th>permalink_url</th>\n",
       "      <th>download_count</th>\n",
       "      <th>last_modified</th>\n",
       "      <th>artwork_url</th>\n",
       "      <th>created_at</th>\n",
       "      <th>track_format</th>\n",
       "      <th>kind</th>\n",
       "    </tr>\n",
       "  </thead>\n",
       "  <tbody>\n",
       "    <tr>\n",
       "      <th>0</th>\n",
       "      <td>Ya A'alem | أصالة - يا عالم</td>\n",
       "      <td>338894518</td>\n",
       "      <td>NaN</td>\n",
       "      <td>NaN</td>\n",
       "      <td>يا عالم هشوفه ولو صدفة يوم.. لابيجيلي نوم ..\\n...</td>\n",
       "      <td>https://soundcloud.com/assalaofficial/yaaalem</td>\n",
       "      <td>0.0</td>\n",
       "      <td>2021-10-30T12:18:38Z</td>\n",
       "      <td>https://i1.sndcdn.com/artworks-000239422855-ug...</td>\n",
       "      <td>2017-08-21T22:39:30Z</td>\n",
       "      <td>single-track</td>\n",
       "      <td>track</td>\n",
       "    </tr>\n",
       "    <tr>\n",
       "      <th>1</th>\n",
       "      <td>As she passes</td>\n",
       "      <td>191576787</td>\n",
       "      <td>Piano</td>\n",
       "      <td>NaN</td>\n",
       "      <td>I took some time away to write a short collect...</td>\n",
       "      <td>https://soundcloud.com/levipatel/as-she-passes</td>\n",
       "      <td>0.0</td>\n",
       "      <td>2021-09-19T16:33:04Z</td>\n",
       "      <td>https://i1.sndcdn.com/artworks-000107020657-dc...</td>\n",
       "      <td>2015-02-17T12:24:09Z</td>\n",
       "      <td>single-track</td>\n",
       "      <td>track</td>\n",
       "    </tr>\n",
       "    <tr>\n",
       "      <th>2</th>\n",
       "      <td>Was am Ende</td>\n",
       "      <td>237941720</td>\n",
       "      <td>Classical Crossover</td>\n",
       "      <td>NaN</td>\n",
       "      <td>Für Lena † 2011\\n___\\n\\nher short life ended s...</td>\n",
       "      <td>https://soundcloud.com/alice_baldwin/was-am-ende</td>\n",
       "      <td>0.0</td>\n",
       "      <td>2021-07-26T20:14:50Z</td>\n",
       "      <td>https://i1.sndcdn.com/artworks-fJzCiYUdpj5i-0-...</td>\n",
       "      <td>2015-12-17T07:26:37Z</td>\n",
       "      <td>single-track</td>\n",
       "      <td>track</td>\n",
       "    </tr>\n",
       "    <tr>\n",
       "      <th>3</th>\n",
       "      <td>January</td>\n",
       "      <td>199486709</td>\n",
       "      <td>Piano</td>\n",
       "      <td>NaN</td>\n",
       "      <td>Watch the video here:\\n\\nhttps://www.youtube.c...</td>\n",
       "      <td>https://soundcloud.com/simeonwalkermusic/january</td>\n",
       "      <td>0.0</td>\n",
       "      <td>2021-10-31T13:45:23Z</td>\n",
       "      <td>https://i1.sndcdn.com/artworks-000112483597-1v...</td>\n",
       "      <td>2015-04-06T11:37:10Z</td>\n",
       "      <td>single-track</td>\n",
       "      <td>track</td>\n",
       "    </tr>\n",
       "    <tr>\n",
       "      <th>4</th>\n",
       "      <td>To Speak Of Solitude</td>\n",
       "      <td>59702269</td>\n",
       "      <td>Ambient</td>\n",
       "      <td>NaN</td>\n",
       "      <td>Full stream and free download of the opening t...</td>\n",
       "      <td>https://soundcloud.com/serein/to-speak-of-soli...</td>\n",
       "      <td>10422.0</td>\n",
       "      <td>2021-10-15T00:49:41Z</td>\n",
       "      <td>https://i1.sndcdn.com/artworks-000351225852-yj...</td>\n",
       "      <td>2012-09-13T10:32:06Z</td>\n",
       "      <td>single-track</td>\n",
       "      <td>track</td>\n",
       "    </tr>\n",
       "    <tr>\n",
       "      <th>...</th>\n",
       "      <td>...</td>\n",
       "      <td>...</td>\n",
       "      <td>...</td>\n",
       "      <td>...</td>\n",
       "      <td>...</td>\n",
       "      <td>...</td>\n",
       "      <td>...</td>\n",
       "      <td>...</td>\n",
       "      <td>...</td>\n",
       "      <td>...</td>\n",
       "      <td>...</td>\n",
       "      <td>...</td>\n",
       "    </tr>\n",
       "    <tr>\n",
       "      <th>1308</th>\n",
       "      <td>Rooting For You (Live Off The Floor)</td>\n",
       "      <td>855361237</td>\n",
       "      <td>Pop</td>\n",
       "      <td>NaN</td>\n",
       "      <td>NaN</td>\n",
       "      <td>https://soundcloud.com/alessiacara/rooting-for...</td>\n",
       "      <td>0.0</td>\n",
       "      <td>2021-10-07T23:47:50Z</td>\n",
       "      <td>https://i1.sndcdn.com/artworks-g79adAl1WhP0-0-...</td>\n",
       "      <td>2020-07-10T03:19:22Z</td>\n",
       "      <td>single-track</td>\n",
       "      <td>track</td>\n",
       "    </tr>\n",
       "    <tr>\n",
       "      <th>1309</th>\n",
       "      <td>October (Live Off The Floor)</td>\n",
       "      <td>855361597</td>\n",
       "      <td>Pop</td>\n",
       "      <td>NaN</td>\n",
       "      <td>NaN</td>\n",
       "      <td>https://soundcloud.com/alessiacara/october-liv...</td>\n",
       "      <td>0.0</td>\n",
       "      <td>2021-10-07T23:48:12Z</td>\n",
       "      <td>https://i1.sndcdn.com/artworks-Yzi8Tz7pcjXN-0-...</td>\n",
       "      <td>2020-07-10T03:19:48Z</td>\n",
       "      <td>single-track</td>\n",
       "      <td>track</td>\n",
       "    </tr>\n",
       "    <tr>\n",
       "      <th>1310</th>\n",
       "      <td>Scars To Your Beautiful (Live Off The Floor (B...</td>\n",
       "      <td>855361777</td>\n",
       "      <td>Pop</td>\n",
       "      <td>NaN</td>\n",
       "      <td>NaN</td>\n",
       "      <td>https://soundcloud.com/alessiacara/scars-to-yo...</td>\n",
       "      <td>0.0</td>\n",
       "      <td>2021-10-07T23:45:28Z</td>\n",
       "      <td>https://i1.sndcdn.com/artworks-K6ZreVz1fHhL-0-...</td>\n",
       "      <td>2020-07-10T03:20:01Z</td>\n",
       "      <td>single-track</td>\n",
       "      <td>track</td>\n",
       "    </tr>\n",
       "    <tr>\n",
       "      <th>1311</th>\n",
       "      <td>Here (Live Off The Floor (Bonus Track))</td>\n",
       "      <td>855361327</td>\n",
       "      <td>Pop</td>\n",
       "      <td>NaN</td>\n",
       "      <td>NaN</td>\n",
       "      <td>https://soundcloud.com/alessiacara/here-live-o...</td>\n",
       "      <td>0.0</td>\n",
       "      <td>2021-10-07T23:49:23Z</td>\n",
       "      <td>https://i1.sndcdn.com/artworks-hBX74Rqgya8S-0-...</td>\n",
       "      <td>2020-07-10T03:19:29Z</td>\n",
       "      <td>single-track</td>\n",
       "      <td>track</td>\n",
       "    </tr>\n",
       "    <tr>\n",
       "      <th>1312</th>\n",
       "      <td>I Choose (From The Netflix Original Film The W...</td>\n",
       "      <td>855361192</td>\n",
       "      <td>Pop</td>\n",
       "      <td>NaN</td>\n",
       "      <td>NaN</td>\n",
       "      <td>https://soundcloud.com/alessiacara/i-choose-fr...</td>\n",
       "      <td>0.0</td>\n",
       "      <td>2021-10-07T23:45:51Z</td>\n",
       "      <td>https://i1.sndcdn.com/artworks-Zzxx0FLRkSXD-0-...</td>\n",
       "      <td>2020-07-10T03:19:17Z</td>\n",
       "      <td>single-track</td>\n",
       "      <td>track</td>\n",
       "    </tr>\n",
       "  </tbody>\n",
       "</table>\n",
       "<p>1313 rows × 12 columns</p>\n",
       "</div>"
      ],
      "text/plain": [
       "                                                  title         id  \\\n",
       "0                           Ya A'alem | أصالة - يا عالم  338894518   \n",
       "1                                         As she passes  191576787   \n",
       "2                                           Was am Ende  237941720   \n",
       "3                                               January  199486709   \n",
       "4                                  To Speak Of Solitude   59702269   \n",
       "...                                                 ...        ...   \n",
       "1308               Rooting For You (Live Off The Floor)  855361237   \n",
       "1309                       October (Live Off The Floor)  855361597   \n",
       "1310  Scars To Your Beautiful (Live Off The Floor (B...  855361777   \n",
       "1311            Here (Live Off The Floor (Bonus Track))  855361327   \n",
       "1312  I Choose (From The Netflix Original Film The W...  855361192   \n",
       "\n",
       "                    genre  caption  \\\n",
       "0                     NaN      NaN   \n",
       "1                   Piano      NaN   \n",
       "2     Classical Crossover      NaN   \n",
       "3                   Piano      NaN   \n",
       "4                 Ambient      NaN   \n",
       "...                   ...      ...   \n",
       "1308                  Pop      NaN   \n",
       "1309                  Pop      NaN   \n",
       "1310                  Pop      NaN   \n",
       "1311                  Pop      NaN   \n",
       "1312                  Pop      NaN   \n",
       "\n",
       "                                            description  \\\n",
       "0     يا عالم هشوفه ولو صدفة يوم.. لابيجيلي نوم ..\\n...   \n",
       "1     I took some time away to write a short collect...   \n",
       "2     Für Lena † 2011\\n___\\n\\nher short life ended s...   \n",
       "3     Watch the video here:\\n\\nhttps://www.youtube.c...   \n",
       "4     Full stream and free download of the opening t...   \n",
       "...                                                 ...   \n",
       "1308                                                NaN   \n",
       "1309                                                NaN   \n",
       "1310                                                NaN   \n",
       "1311                                                NaN   \n",
       "1312                                                NaN   \n",
       "\n",
       "                                          permalink_url  download_count  \\\n",
       "0         https://soundcloud.com/assalaofficial/yaaalem             0.0   \n",
       "1        https://soundcloud.com/levipatel/as-she-passes             0.0   \n",
       "2      https://soundcloud.com/alice_baldwin/was-am-ende             0.0   \n",
       "3      https://soundcloud.com/simeonwalkermusic/january             0.0   \n",
       "4     https://soundcloud.com/serein/to-speak-of-soli...         10422.0   \n",
       "...                                                 ...             ...   \n",
       "1308  https://soundcloud.com/alessiacara/rooting-for...             0.0   \n",
       "1309  https://soundcloud.com/alessiacara/october-liv...             0.0   \n",
       "1310  https://soundcloud.com/alessiacara/scars-to-yo...             0.0   \n",
       "1311  https://soundcloud.com/alessiacara/here-live-o...             0.0   \n",
       "1312  https://soundcloud.com/alessiacara/i-choose-fr...             0.0   \n",
       "\n",
       "             last_modified                                        artwork_url  \\\n",
       "0     2021-10-30T12:18:38Z  https://i1.sndcdn.com/artworks-000239422855-ug...   \n",
       "1     2021-09-19T16:33:04Z  https://i1.sndcdn.com/artworks-000107020657-dc...   \n",
       "2     2021-07-26T20:14:50Z  https://i1.sndcdn.com/artworks-fJzCiYUdpj5i-0-...   \n",
       "3     2021-10-31T13:45:23Z  https://i1.sndcdn.com/artworks-000112483597-1v...   \n",
       "4     2021-10-15T00:49:41Z  https://i1.sndcdn.com/artworks-000351225852-yj...   \n",
       "...                    ...                                                ...   \n",
       "1308  2021-10-07T23:47:50Z  https://i1.sndcdn.com/artworks-g79adAl1WhP0-0-...   \n",
       "1309  2021-10-07T23:48:12Z  https://i1.sndcdn.com/artworks-Yzi8Tz7pcjXN-0-...   \n",
       "1310  2021-10-07T23:45:28Z  https://i1.sndcdn.com/artworks-K6ZreVz1fHhL-0-...   \n",
       "1311  2021-10-07T23:49:23Z  https://i1.sndcdn.com/artworks-hBX74Rqgya8S-0-...   \n",
       "1312  2021-10-07T23:45:51Z  https://i1.sndcdn.com/artworks-Zzxx0FLRkSXD-0-...   \n",
       "\n",
       "                created_at  track_format   kind  \n",
       "0     2017-08-21T22:39:30Z  single-track  track  \n",
       "1     2015-02-17T12:24:09Z  single-track  track  \n",
       "2     2015-12-17T07:26:37Z  single-track  track  \n",
       "3     2015-04-06T11:37:10Z  single-track  track  \n",
       "4     2012-09-13T10:32:06Z  single-track  track  \n",
       "...                    ...           ...    ...  \n",
       "1308  2020-07-10T03:19:22Z  single-track  track  \n",
       "1309  2020-07-10T03:19:48Z  single-track  track  \n",
       "1310  2020-07-10T03:20:01Z  single-track  track  \n",
       "1311  2020-07-10T03:19:29Z  single-track  track  \n",
       "1312  2020-07-10T03:19:17Z  single-track  track  \n",
       "\n",
       "[1313 rows x 12 columns]"
      ]
     },
     "execution_count": 59,
     "metadata": {},
     "output_type": "execute_result"
    }
   ],
   "source": [
    "track_df = pd.read_csv(\"tracks.csv\", encoding = \"utf-8\")\n",
    "track_df"
   ]
  },
  {
   "cell_type": "code",
   "execution_count": 62,
   "id": "c71e1c36",
   "metadata": {},
   "outputs": [
    {
     "name": "stdout",
     "output_type": "stream",
     "text": [
      "1313 12\n"
     ]
    }
   ],
   "source": [
    "num_rows = track_df.shape[0]\n",
    "num_cols = track_df.shape[1]\n",
    "print(num_rows, num_cols)"
   ]
  },
  {
   "cell_type": "markdown",
   "id": "4e9ffddc",
   "metadata": {},
   "source": [
    "***Như vậy dữ liệu Track có 1313 dòng và 12 cột.***"
   ]
  },
  {
   "cell_type": "markdown",
   "id": "d63198c2",
   "metadata": {},
   "source": [
    "**2.2. Dữ liệu mỗi cột có bị lặp không?**"
   ]
  },
  {
   "cell_type": "code",
   "execution_count": 63,
   "id": "c9c6006d",
   "metadata": {},
   "outputs": [
    {
     "name": "stdout",
     "output_type": "stream",
     "text": [
      "566\n"
     ]
    }
   ],
   "source": [
    "count_duplicated = track_df.duplicated(keep = False).sum()\n",
    "print(count_duplicated)"
   ]
  },
  {
   "cell_type": "markdown",
   "id": "9e482948",
   "metadata": {},
   "source": [
    "Như ta đã thấy có khá nhiều dữ liệu bị trùng. Như vậy ta sẽ xoá bớt những dữ liệu bị trùng và những cột không cần thiết."
   ]
  },
  {
   "cell_type": "code",
   "execution_count": 64,
   "id": "67f9f2e9",
   "metadata": {},
   "outputs": [
    {
     "data": {
      "text/html": [
       "<div>\n",
       "<style scoped>\n",
       "    .dataframe tbody tr th:only-of-type {\n",
       "        vertical-align: middle;\n",
       "    }\n",
       "\n",
       "    .dataframe tbody tr th {\n",
       "        vertical-align: top;\n",
       "    }\n",
       "\n",
       "    .dataframe thead th {\n",
       "        text-align: right;\n",
       "    }\n",
       "</style>\n",
       "<table border=\"1\" class=\"dataframe\">\n",
       "  <thead>\n",
       "    <tr style=\"text-align: right;\">\n",
       "      <th></th>\n",
       "      <th>title</th>\n",
       "      <th>id</th>\n",
       "      <th>genre</th>\n",
       "      <th>permalink_url</th>\n",
       "      <th>download_count</th>\n",
       "      <th>last_modified</th>\n",
       "      <th>artwork_url</th>\n",
       "      <th>created_at</th>\n",
       "    </tr>\n",
       "  </thead>\n",
       "  <tbody>\n",
       "    <tr>\n",
       "      <th>0</th>\n",
       "      <td>Ya A'alem | أصالة - يا عالم</td>\n",
       "      <td>338894518</td>\n",
       "      <td>NaN</td>\n",
       "      <td>https://soundcloud.com/assalaofficial/yaaalem</td>\n",
       "      <td>0.0</td>\n",
       "      <td>2021-10-30T12:18:38Z</td>\n",
       "      <td>https://i1.sndcdn.com/artworks-000239422855-ug...</td>\n",
       "      <td>2017-08-21T22:39:30Z</td>\n",
       "    </tr>\n",
       "    <tr>\n",
       "      <th>1</th>\n",
       "      <td>As she passes</td>\n",
       "      <td>191576787</td>\n",
       "      <td>Piano</td>\n",
       "      <td>https://soundcloud.com/levipatel/as-she-passes</td>\n",
       "      <td>0.0</td>\n",
       "      <td>2021-09-19T16:33:04Z</td>\n",
       "      <td>https://i1.sndcdn.com/artworks-000107020657-dc...</td>\n",
       "      <td>2015-02-17T12:24:09Z</td>\n",
       "    </tr>\n",
       "    <tr>\n",
       "      <th>2</th>\n",
       "      <td>Was am Ende</td>\n",
       "      <td>237941720</td>\n",
       "      <td>Classical Crossover</td>\n",
       "      <td>https://soundcloud.com/alice_baldwin/was-am-ende</td>\n",
       "      <td>0.0</td>\n",
       "      <td>2021-07-26T20:14:50Z</td>\n",
       "      <td>https://i1.sndcdn.com/artworks-fJzCiYUdpj5i-0-...</td>\n",
       "      <td>2015-12-17T07:26:37Z</td>\n",
       "    </tr>\n",
       "    <tr>\n",
       "      <th>3</th>\n",
       "      <td>January</td>\n",
       "      <td>199486709</td>\n",
       "      <td>Piano</td>\n",
       "      <td>https://soundcloud.com/simeonwalkermusic/january</td>\n",
       "      <td>0.0</td>\n",
       "      <td>2021-10-31T13:45:23Z</td>\n",
       "      <td>https://i1.sndcdn.com/artworks-000112483597-1v...</td>\n",
       "      <td>2015-04-06T11:37:10Z</td>\n",
       "    </tr>\n",
       "    <tr>\n",
       "      <th>4</th>\n",
       "      <td>To Speak Of Solitude</td>\n",
       "      <td>59702269</td>\n",
       "      <td>Ambient</td>\n",
       "      <td>https://soundcloud.com/serein/to-speak-of-soli...</td>\n",
       "      <td>10422.0</td>\n",
       "      <td>2021-10-15T00:49:41Z</td>\n",
       "      <td>https://i1.sndcdn.com/artworks-000351225852-yj...</td>\n",
       "      <td>2012-09-13T10:32:06Z</td>\n",
       "    </tr>\n",
       "    <tr>\n",
       "      <th>...</th>\n",
       "      <td>...</td>\n",
       "      <td>...</td>\n",
       "      <td>...</td>\n",
       "      <td>...</td>\n",
       "      <td>...</td>\n",
       "      <td>...</td>\n",
       "      <td>...</td>\n",
       "      <td>...</td>\n",
       "    </tr>\n",
       "    <tr>\n",
       "      <th>1308</th>\n",
       "      <td>Rooting For You (Live Off The Floor)</td>\n",
       "      <td>855361237</td>\n",
       "      <td>Pop</td>\n",
       "      <td>https://soundcloud.com/alessiacara/rooting-for...</td>\n",
       "      <td>0.0</td>\n",
       "      <td>2021-10-07T23:47:50Z</td>\n",
       "      <td>https://i1.sndcdn.com/artworks-g79adAl1WhP0-0-...</td>\n",
       "      <td>2020-07-10T03:19:22Z</td>\n",
       "    </tr>\n",
       "    <tr>\n",
       "      <th>1309</th>\n",
       "      <td>October (Live Off The Floor)</td>\n",
       "      <td>855361597</td>\n",
       "      <td>Pop</td>\n",
       "      <td>https://soundcloud.com/alessiacara/october-liv...</td>\n",
       "      <td>0.0</td>\n",
       "      <td>2021-10-07T23:48:12Z</td>\n",
       "      <td>https://i1.sndcdn.com/artworks-Yzi8Tz7pcjXN-0-...</td>\n",
       "      <td>2020-07-10T03:19:48Z</td>\n",
       "    </tr>\n",
       "    <tr>\n",
       "      <th>1310</th>\n",
       "      <td>Scars To Your Beautiful (Live Off The Floor (B...</td>\n",
       "      <td>855361777</td>\n",
       "      <td>Pop</td>\n",
       "      <td>https://soundcloud.com/alessiacara/scars-to-yo...</td>\n",
       "      <td>0.0</td>\n",
       "      <td>2021-10-07T23:45:28Z</td>\n",
       "      <td>https://i1.sndcdn.com/artworks-K6ZreVz1fHhL-0-...</td>\n",
       "      <td>2020-07-10T03:20:01Z</td>\n",
       "    </tr>\n",
       "    <tr>\n",
       "      <th>1311</th>\n",
       "      <td>Here (Live Off The Floor (Bonus Track))</td>\n",
       "      <td>855361327</td>\n",
       "      <td>Pop</td>\n",
       "      <td>https://soundcloud.com/alessiacara/here-live-o...</td>\n",
       "      <td>0.0</td>\n",
       "      <td>2021-10-07T23:49:23Z</td>\n",
       "      <td>https://i1.sndcdn.com/artworks-hBX74Rqgya8S-0-...</td>\n",
       "      <td>2020-07-10T03:19:29Z</td>\n",
       "    </tr>\n",
       "    <tr>\n",
       "      <th>1312</th>\n",
       "      <td>I Choose (From The Netflix Original Film The W...</td>\n",
       "      <td>855361192</td>\n",
       "      <td>Pop</td>\n",
       "      <td>https://soundcloud.com/alessiacara/i-choose-fr...</td>\n",
       "      <td>0.0</td>\n",
       "      <td>2021-10-07T23:45:51Z</td>\n",
       "      <td>https://i1.sndcdn.com/artworks-Zzxx0FLRkSXD-0-...</td>\n",
       "      <td>2020-07-10T03:19:17Z</td>\n",
       "    </tr>\n",
       "  </tbody>\n",
       "</table>\n",
       "<p>1021 rows × 8 columns</p>\n",
       "</div>"
      ],
      "text/plain": [
       "                                                  title         id  \\\n",
       "0                           Ya A'alem | أصالة - يا عالم  338894518   \n",
       "1                                         As she passes  191576787   \n",
       "2                                           Was am Ende  237941720   \n",
       "3                                               January  199486709   \n",
       "4                                  To Speak Of Solitude   59702269   \n",
       "...                                                 ...        ...   \n",
       "1308               Rooting For You (Live Off The Floor)  855361237   \n",
       "1309                       October (Live Off The Floor)  855361597   \n",
       "1310  Scars To Your Beautiful (Live Off The Floor (B...  855361777   \n",
       "1311            Here (Live Off The Floor (Bonus Track))  855361327   \n",
       "1312  I Choose (From The Netflix Original Film The W...  855361192   \n",
       "\n",
       "                    genre                                      permalink_url  \\\n",
       "0                     NaN      https://soundcloud.com/assalaofficial/yaaalem   \n",
       "1                   Piano     https://soundcloud.com/levipatel/as-she-passes   \n",
       "2     Classical Crossover   https://soundcloud.com/alice_baldwin/was-am-ende   \n",
       "3                   Piano   https://soundcloud.com/simeonwalkermusic/january   \n",
       "4                 Ambient  https://soundcloud.com/serein/to-speak-of-soli...   \n",
       "...                   ...                                                ...   \n",
       "1308                  Pop  https://soundcloud.com/alessiacara/rooting-for...   \n",
       "1309                  Pop  https://soundcloud.com/alessiacara/october-liv...   \n",
       "1310                  Pop  https://soundcloud.com/alessiacara/scars-to-yo...   \n",
       "1311                  Pop  https://soundcloud.com/alessiacara/here-live-o...   \n",
       "1312                  Pop  https://soundcloud.com/alessiacara/i-choose-fr...   \n",
       "\n",
       "      download_count         last_modified  \\\n",
       "0                0.0  2021-10-30T12:18:38Z   \n",
       "1                0.0  2021-09-19T16:33:04Z   \n",
       "2                0.0  2021-07-26T20:14:50Z   \n",
       "3                0.0  2021-10-31T13:45:23Z   \n",
       "4            10422.0  2021-10-15T00:49:41Z   \n",
       "...              ...                   ...   \n",
       "1308             0.0  2021-10-07T23:47:50Z   \n",
       "1309             0.0  2021-10-07T23:48:12Z   \n",
       "1310             0.0  2021-10-07T23:45:28Z   \n",
       "1311             0.0  2021-10-07T23:49:23Z   \n",
       "1312             0.0  2021-10-07T23:45:51Z   \n",
       "\n",
       "                                            artwork_url            created_at  \n",
       "0     https://i1.sndcdn.com/artworks-000239422855-ug...  2017-08-21T22:39:30Z  \n",
       "1     https://i1.sndcdn.com/artworks-000107020657-dc...  2015-02-17T12:24:09Z  \n",
       "2     https://i1.sndcdn.com/artworks-fJzCiYUdpj5i-0-...  2015-12-17T07:26:37Z  \n",
       "3     https://i1.sndcdn.com/artworks-000112483597-1v...  2015-04-06T11:37:10Z  \n",
       "4     https://i1.sndcdn.com/artworks-000351225852-yj...  2012-09-13T10:32:06Z  \n",
       "...                                                 ...                   ...  \n",
       "1308  https://i1.sndcdn.com/artworks-g79adAl1WhP0-0-...  2020-07-10T03:19:22Z  \n",
       "1309  https://i1.sndcdn.com/artworks-Yzi8Tz7pcjXN-0-...  2020-07-10T03:19:48Z  \n",
       "1310  https://i1.sndcdn.com/artworks-K6ZreVz1fHhL-0-...  2020-07-10T03:20:01Z  \n",
       "1311  https://i1.sndcdn.com/artworks-hBX74Rqgya8S-0-...  2020-07-10T03:19:29Z  \n",
       "1312  https://i1.sndcdn.com/artworks-Zzxx0FLRkSXD-0-...  2020-07-10T03:19:17Z  \n",
       "\n",
       "[1021 rows x 8 columns]"
      ]
     },
     "execution_count": 64,
     "metadata": {},
     "output_type": "execute_result"
    }
   ],
   "source": [
    "track_df = track_df.drop_duplicates()\n",
    "track_df = track_df.drop([\"caption\", \"description\", \"kind\", \"track_format\"], axis = 1)\n",
    "track_df"
   ]
  },
  {
   "cell_type": "markdown",
   "id": "0af4ed6a",
   "metadata": {},
   "source": [
    "**2.3. Dữ liệu nói lên điều gì?**"
   ]
  },
  {
   "cell_type": "markdown",
   "id": "90ff84ce",
   "metadata": {},
   "source": [
    "Ta bắt đầu tìm hiểu từng cột, qua các tên cột và dữ liệu của nó, ta thấy rằng:\n",
    "- `title`: Tên của Track\n",
    "- `id`: ID của Track\n",
    "- `genre`: Thể loại Track\n",
    "- `permalink_url`: Link dẫn đến Track\n",
    "- `avatar_url`: Link hình ảnh avatar của User\n",
    "- `download_count`: Số lượng người dùng download Track\n",
    "- `last_modified`: Thời điểm lần cuối User hoạt động chỉnh sửa\n",
    "- `artwork_url`: Link ảnh minh hoạ của Track\n",
    "- `created_at`: Ngày Upload Track"
   ]
  },
  {
   "cell_type": "markdown",
   "id": "5c3d93ba",
   "metadata": {},
   "source": [
    "Đầu tiên ta sẽ tìm hiểu từng cột mang kiểu dữ liệu gì."
   ]
  },
  {
   "cell_type": "code",
   "execution_count": 14,
   "id": "6a603289",
   "metadata": {},
   "outputs": [
    {
     "data": {
      "text/plain": [
       "title              object\n",
       "id                  int64\n",
       "genre              object\n",
       "permalink_url      object\n",
       "download_count    float64\n",
       "last_modified      object\n",
       "artwork_url        object\n",
       "created_at         object\n",
       "dtype: object"
      ]
     },
     "execution_count": 14,
     "metadata": {},
     "output_type": "execute_result"
    }
   ],
   "source": [
    "col_dtypes = track_df.dtypes\n",
    "col_dtypes"
   ]
  },
  {
   "cell_type": "markdown",
   "id": "01a7e733",
   "metadata": {},
   "source": [
    "Các nhân viên phân tích dữ liệu sẽ quan tâm gì đến trong bảng này?\n",
    "Thì ta giả định rằng để marketing sản phẩm theo từng quốc gia, họ sẽ quan tâm đến các dữ liệu Track qua từng năm và Thể loại (genre) được yêu thích nhất, gồm các cột: `genre`, `create_at`"
   ]
  },
  {
   "cell_type": "markdown",
   "id": "de51a879",
   "metadata": {},
   "source": [
    "Ta thấy rằng: \n",
    "- Cột `id` phải được chuyển sang kiểu dữ liệu string\n",
    "- Cột `last_modified` và `created_at` thành kiểu dữ liệu datetime"
   ]
  },
  {
   "cell_type": "markdown",
   "id": "7a00f06d",
   "metadata": {},
   "source": [
    "Vì thế ta thực hiện các bước tiền xử lý:\n",
    "- Cột `id` chuyển sang kiểu \"string\".\n",
    "- Chuyển 2 cột `last_modified` và `created_at` thành kiểu dữ liệu \"datetime\"."
   ]
  },
  {
   "cell_type": "code",
   "execution_count": 15,
   "id": "33a65506",
   "metadata": {},
   "outputs": [],
   "source": [
    "track_df.id = track_df.id.apply(lambda x: str(x))\n",
    "a = lambda x: datetime.strptime(x, '%Y-%m-%dT%XZ')\n",
    "track_df.last_modified = track_df.last_modified.apply(a)\n",
    "track_df.created_at = track_df.created_at.apply(a)"
   ]
  },
  {
   "cell_type": "markdown",
   "id": "eecbc8b8",
   "metadata": {},
   "source": [
    "**2.3.a) Các thể loại phổ biến (chỉ chọn 10 genres) qua từng năm là những thể loại gì?**"
   ]
  },
  {
   "cell_type": "code",
   "execution_count": 16,
   "id": "ac083780",
   "metadata": {},
   "outputs": [],
   "source": [
    "# Lấy mẫu dữ liệu\n",
    "df_1 = track_df.dropna()\n",
    "\n",
    "#Ta loại bỏ giá trị \"this is not the album vì nó là outliers, không giúp ích cho chúng ta kết luận\"\n",
    "df_1 = df_1[df_1[\"genre\"] != \"this is not the album\"]\n",
    "genre = df_1.genre\n",
    "genre_count = genre.value_counts(normalize = True) * 100\n",
    "genre_top = genre_count.iloc[0:10]"
   ]
  },
  {
   "cell_type": "code",
   "execution_count": 17,
   "id": "b60bde61",
   "metadata": {},
   "outputs": [
    {
     "data": {
      "image/png": "[encoded data removed]",
      "text/plain": [
       "<Figure size 432x288 with 1 Axes>"
      ]
     },
     "metadata": {
      "needs_background": "light"
     },
     "output_type": "display_data"
    }
   ],
   "source": [
    "# Visualize Tracks\n",
    "name = genre_top.keys()\n",
    "value = genre_top.values\n",
    "plt.barh(name,value, color = 'salmon')\n",
    "plt.title(\"The most loved genre\")\n",
    "plt.yticks(range(len(name)), name)\n",
    "plt.show()"
   ]
  },
  {
   "cell_type": "markdown",
   "id": "a7acf33c",
   "metadata": {},
   "source": [
    "**2.3.b) Số lượng tracks qua các năm:**"
   ]
  },
  {
   "cell_type": "markdown",
   "id": "6b04f98b",
   "metadata": {},
   "source": [
    "- Phân tích số lượng tracks có thể giúp ta hiểu được số lượng người sử dụng nền tảng qua các năm, xu hướng tăng hay giảm.\n",
    "- Tập dữ liệu >=1000 items có thể trả lời gần đúng câu hỏi này."
   ]
  },
  {
   "cell_type": "code",
   "execution_count": 18,
   "id": "f10d719c",
   "metadata": {},
   "outputs": [],
   "source": [
    "# Tính toán\n",
    "num_track_of_years = track_df.created_at.apply(lambda x: x.year)\n",
    "num_track_of_years = num_track_of_years.value_counts()"
   ]
  },
  {
   "cell_type": "code",
   "execution_count": 19,
   "id": "ccf27b68",
   "metadata": {},
   "outputs": [
    {
     "data": {
      "image/png": "[encoded data removed]",
      "text/plain": [
       "<Figure size 432x288 with 1 Axes>"
      ]
     },
     "metadata": {
      "needs_background": "light"
     },
     "output_type": "display_data"
    }
   ],
   "source": [
    "# Vẽ biểu đồ\n",
    "name = num_track_of_years.keys()\n",
    "value = num_track_of_years.values\n",
    "fig = plt.figure()\n",
    "ax = fig.add_axes([0,0,1,1])\n",
    "ax.bar(name,value, color = 'chocolate')\n",
    "ax.set_title(\"Number of tracks through years\")\n",
    "ax.set_xticks(name)\n",
    "plt.show()"
   ]
  },
  {
   "cell_type": "markdown",
   "id": "013e79eb",
   "metadata": {},
   "source": [
    "**Kết luận**: Phân tích viên có thể dựa vào biều đồ trên để đánh giá người dùng rằng:\n",
    "- Từ thể loại Genre được yêu thích nhất ta có thể biết được chiến lược phù hợp, gợi ý những thể loại này cho người dùng.\n",
    "- Số lượng biến động Track được upload qua các năm cho thấy mạnh mẽ ở 2016 và giảm ở 2021, có thể nhu cầu về âm nhạc ở trên web này đã bị giảm và họ có thể chuyển sang nền tảng, web mới."
   ]
  },
  {
   "cell_type": "markdown",
   "id": "c7591d44",
   "metadata": {},
   "source": [
    "### Phần 3: Dữ liệu Playlists"
   ]
  },
  {
   "cell_type": "markdown",
   "id": "084eae24",
   "metadata": {},
   "source": [
    "#### Khám phá chi tiết những dữ liệu biết nói:"
   ]
  },
  {
   "cell_type": "markdown",
   "id": "049c675f",
   "metadata": {},
   "source": [
    "**3.1. Dữ lệu có bao nhiêu dòng và bao nhiêu cột ?**"
   ]
  },
  {
   "cell_type": "code",
   "execution_count": 65,
   "id": "beff8b83",
   "metadata": {
    "scrolled": true
   },
   "outputs": [
    {
     "data": {
      "text/html": [
       "<div>\n",
       "<style scoped>\n",
       "    .dataframe tbody tr th:only-of-type {\n",
       "        vertical-align: middle;\n",
       "    }\n",
       "\n",
       "    .dataframe tbody tr th {\n",
       "        vertical-align: top;\n",
       "    }\n",
       "\n",
       "    .dataframe thead th {\n",
       "        text-align: right;\n",
       "    }\n",
       "</style>\n",
       "<table border=\"1\" class=\"dataframe\">\n",
       "  <thead>\n",
       "    <tr style=\"text-align: right;\">\n",
       "      <th></th>\n",
       "      <th>title</th>\n",
       "      <th>id</th>\n",
       "      <th>genre</th>\n",
       "      <th>description</th>\n",
       "      <th>created_at</th>\n",
       "      <th>permalink_url</th>\n",
       "      <th>user_id</th>\n",
       "      <th>like_count</th>\n",
       "      <th>artwork_url</th>\n",
       "      <th>last_modified</th>\n",
       "      <th>label_name</th>\n",
       "      <th>display_date</th>\n",
       "      <th>duration</th>\n",
       "      <th>reposts_count</th>\n",
       "      <th>kind</th>\n",
       "    </tr>\n",
       "  </thead>\n",
       "  <tbody>\n",
       "    <tr>\n",
       "      <th>0</th>\n",
       "      <td>Acid Jazz</td>\n",
       "      <td>272741983</td>\n",
       "      <td>lofi-jazzflow</td>\n",
       "      <td>: there's no need for stress... &amp; follow us on...</td>\n",
       "      <td>2016-11-03T23:43:30Z</td>\n",
       "      <td>https://soundcloud.com/lordafi/sets/acid-jazz</td>\n",
       "      <td>29407354</td>\n",
       "      <td>387926</td>\n",
       "      <td>https://i1.sndcdn.com/artworks-000692038081-lu...</td>\n",
       "      <td>2021-10-11T07:22:31Z</td>\n",
       "      <td>NaN</td>\n",
       "      <td>2016-11-03T23:43:30Z</td>\n",
       "      <td>5832930</td>\n",
       "      <td>35975</td>\n",
       "      <td>playlist</td>\n",
       "    </tr>\n",
       "    <tr>\n",
       "      <th>1</th>\n",
       "      <td>Asala</td>\n",
       "      <td>842244773</td>\n",
       "      <td>NaN</td>\n",
       "      <td>NaN</td>\n",
       "      <td>2019-08-07T21:20:42Z</td>\n",
       "      <td>https://soundcloud.com/nancy-ahmed-156247757/s...</td>\n",
       "      <td>180359510</td>\n",
       "      <td>271</td>\n",
       "      <td>NaN</td>\n",
       "      <td>2019-08-07T21:20:42Z</td>\n",
       "      <td>NaN</td>\n",
       "      <td>2019-08-07T21:20:42Z</td>\n",
       "      <td>247376</td>\n",
       "      <td>13</td>\n",
       "      <td>playlist</td>\n",
       "    </tr>\n",
       "    <tr>\n",
       "      <th>2</th>\n",
       "      <td>Ambient piano</td>\n",
       "      <td>192883600</td>\n",
       "      <td>slow piano</td>\n",
       "      <td>Drift away on the ambient waves of the piano\\n...</td>\n",
       "      <td>2016-02-04T19:00:30Z</td>\n",
       "      <td>https://soundcloud.com/agamidae/sets/ambient-p...</td>\n",
       "      <td>17971787</td>\n",
       "      <td>142967</td>\n",
       "      <td>https://i1.sndcdn.com/artworks-000151142988-rh...</td>\n",
       "      <td>2016-07-06T15:44:24Z</td>\n",
       "      <td>NaN</td>\n",
       "      <td>2016-02-04T19:00:30Z</td>\n",
       "      <td>3789582</td>\n",
       "      <td>9479</td>\n",
       "      <td>playlist</td>\n",
       "    </tr>\n",
       "    <tr>\n",
       "      <th>3</th>\n",
       "      <td>As Beautiful As It Sounds</td>\n",
       "      <td>171923058</td>\n",
       "      <td>beauty</td>\n",
       "      <td>Magic in sound, perfect ambience, the soundtra...</td>\n",
       "      <td>2015-12-04T10:07:48Z</td>\n",
       "      <td>https://soundcloud.com/user-961145082/sets/as-...</td>\n",
       "      <td>180441394</td>\n",
       "      <td>74516</td>\n",
       "      <td>https://i1.sndcdn.com/artworks-000138365322-zx...</td>\n",
       "      <td>2015-12-04T10:26:05Z</td>\n",
       "      <td>NaN</td>\n",
       "      <td>2015-12-04T10:07:48Z</td>\n",
       "      <td>11360541</td>\n",
       "      <td>4372</td>\n",
       "      <td>playlist</td>\n",
       "    </tr>\n",
       "    <tr>\n",
       "      <th>4</th>\n",
       "      <td>ahmed</td>\n",
       "      <td>1100405110</td>\n",
       "      <td>NaN</td>\n",
       "      <td>NaN</td>\n",
       "      <td>2020-07-28T13:44:42Z</td>\n",
       "      <td>https://soundcloud.com/user443908231/sets/ahmed</td>\n",
       "      <td>149191020</td>\n",
       "      <td>0</td>\n",
       "      <td>NaN</td>\n",
       "      <td>2020-12-12T15:09:08Z</td>\n",
       "      <td>NaN</td>\n",
       "      <td>2020-07-28T13:44:42Z</td>\n",
       "      <td>7328169</td>\n",
       "      <td>0</td>\n",
       "      <td>playlist</td>\n",
       "    </tr>\n",
       "    <tr>\n",
       "      <th>...</th>\n",
       "      <td>...</td>\n",
       "      <td>...</td>\n",
       "      <td>...</td>\n",
       "      <td>...</td>\n",
       "      <td>...</td>\n",
       "      <td>...</td>\n",
       "      <td>...</td>\n",
       "      <td>...</td>\n",
       "      <td>...</td>\n",
       "      <td>...</td>\n",
       "      <td>...</td>\n",
       "      <td>...</td>\n",
       "      <td>...</td>\n",
       "      <td>...</td>\n",
       "      <td>...</td>\n",
       "    </tr>\n",
       "    <tr>\n",
       "      <th>1257</th>\n",
       "      <td>Best of - Remixes</td>\n",
       "      <td>1136798191</td>\n",
       "      <td>NaN</td>\n",
       "      <td>NaN</td>\n",
       "      <td>2020-09-29T12:10:26Z</td>\n",
       "      <td>https://soundcloud.com/lucky-yona-jr/sets/best...</td>\n",
       "      <td>76067437</td>\n",
       "      <td>0</td>\n",
       "      <td>NaN</td>\n",
       "      <td>2020-09-29T12:11:31Z</td>\n",
       "      <td>NaN</td>\n",
       "      <td>2020-09-29T12:10:26Z</td>\n",
       "      <td>79227492</td>\n",
       "      <td>0</td>\n",
       "      <td>playlist</td>\n",
       "    </tr>\n",
       "    <tr>\n",
       "      <th>1258</th>\n",
       "      <td>BLOOD BROS TRILOGY</td>\n",
       "      <td>520282</td>\n",
       "      <td>Training</td>\n",
       "      <td>The Blood Bros series, created by Derek 'DJA' ...</td>\n",
       "      <td>2011-01-14T00:28:23Z</td>\n",
       "      <td>https://soundcloud.com/maddecent/sets/blood-br...</td>\n",
       "      <td>14730</td>\n",
       "      <td>1153</td>\n",
       "      <td>https://i1.sndcdn.com/artworks-000004129539-gp...</td>\n",
       "      <td>2012-11-14T01:09:37Z</td>\n",
       "      <td>NaN</td>\n",
       "      <td>2011-01-14T00:28:23Z</td>\n",
       "      <td>7903562</td>\n",
       "      <td>114</td>\n",
       "      <td>playlist</td>\n",
       "    </tr>\n",
       "    <tr>\n",
       "      <th>1259</th>\n",
       "      <td>best</td>\n",
       "      <td>117705133</td>\n",
       "      <td>NaN</td>\n",
       "      <td>NaN</td>\n",
       "      <td>2015-06-18T10:56:08Z</td>\n",
       "      <td>https://soundcloud.com/abdo-elafany/sets/best</td>\n",
       "      <td>124394958</td>\n",
       "      <td>0</td>\n",
       "      <td>NaN</td>\n",
       "      <td>2020-12-30T08:19:30Z</td>\n",
       "      <td>NaN</td>\n",
       "      <td>2015-06-18T10:56:08Z</td>\n",
       "      <td>122538222</td>\n",
       "      <td>0</td>\n",
       "      <td>playlist</td>\n",
       "    </tr>\n",
       "    <tr>\n",
       "      <th>1260</th>\n",
       "      <td>Best Guy So Far</td>\n",
       "      <td>75852830</td>\n",
       "      <td>NaN</td>\n",
       "      <td>NaN</td>\n",
       "      <td>2015-01-28T01:23:19Z</td>\n",
       "      <td>https://soundcloud.com/aspecialthing/sets/best...</td>\n",
       "      <td>37599594</td>\n",
       "      <td>8</td>\n",
       "      <td>NaN</td>\n",
       "      <td>2015-01-28T01:23:19Z</td>\n",
       "      <td>NaN</td>\n",
       "      <td>2015-01-28T01:23:19Z</td>\n",
       "      <td>1512619</td>\n",
       "      <td>0</td>\n",
       "      <td>playlist</td>\n",
       "    </tr>\n",
       "    <tr>\n",
       "      <th>1261</th>\n",
       "      <td>Bäst - part 2</td>\n",
       "      <td>1323201928</td>\n",
       "      <td>NaN</td>\n",
       "      <td>NaN</td>\n",
       "      <td>2021-09-28T14:35:17Z</td>\n",
       "      <td>https://soundcloud.com/vadhander/sets/baest-pa...</td>\n",
       "      <td>6565012</td>\n",
       "      <td>0</td>\n",
       "      <td>NaN</td>\n",
       "      <td>2021-09-28T14:38:26Z</td>\n",
       "      <td>NaN</td>\n",
       "      <td>2021-09-28T14:35:17Z</td>\n",
       "      <td>54947985</td>\n",
       "      <td>0</td>\n",
       "      <td>playlist</td>\n",
       "    </tr>\n",
       "  </tbody>\n",
       "</table>\n",
       "<p>1262 rows × 15 columns</p>\n",
       "</div>"
      ],
      "text/plain": [
       "                          title          id          genre  \\\n",
       "0                     Acid Jazz   272741983  lofi-jazzflow   \n",
       "1                         Asala   842244773            NaN   \n",
       "2                 Ambient piano   192883600     slow piano   \n",
       "3     As Beautiful As It Sounds   171923058         beauty   \n",
       "4                         ahmed  1100405110            NaN   \n",
       "...                         ...         ...            ...   \n",
       "1257          Best of - Remixes  1136798191            NaN   \n",
       "1258         BLOOD BROS TRILOGY      520282       Training   \n",
       "1259                       best   117705133            NaN   \n",
       "1260            Best Guy So Far    75852830            NaN   \n",
       "1261              Bäst - part 2  1323201928            NaN   \n",
       "\n",
       "                                            description            created_at  \\\n",
       "0     : there's no need for stress... & follow us on...  2016-11-03T23:43:30Z   \n",
       "1                                                   NaN  2019-08-07T21:20:42Z   \n",
       "2     Drift away on the ambient waves of the piano\\n...  2016-02-04T19:00:30Z   \n",
       "3     Magic in sound, perfect ambience, the soundtra...  2015-12-04T10:07:48Z   \n",
       "4                                                   NaN  2020-07-28T13:44:42Z   \n",
       "...                                                 ...                   ...   \n",
       "1257                                                NaN  2020-09-29T12:10:26Z   \n",
       "1258  The Blood Bros series, created by Derek 'DJA' ...  2011-01-14T00:28:23Z   \n",
       "1259                                                NaN  2015-06-18T10:56:08Z   \n",
       "1260                                                NaN  2015-01-28T01:23:19Z   \n",
       "1261                                                NaN  2021-09-28T14:35:17Z   \n",
       "\n",
       "                                          permalink_url    user_id  \\\n",
       "0         https://soundcloud.com/lordafi/sets/acid-jazz   29407354   \n",
       "1     https://soundcloud.com/nancy-ahmed-156247757/s...  180359510   \n",
       "2     https://soundcloud.com/agamidae/sets/ambient-p...   17971787   \n",
       "3     https://soundcloud.com/user-961145082/sets/as-...  180441394   \n",
       "4       https://soundcloud.com/user443908231/sets/ahmed  149191020   \n",
       "...                                                 ...        ...   \n",
       "1257  https://soundcloud.com/lucky-yona-jr/sets/best...   76067437   \n",
       "1258  https://soundcloud.com/maddecent/sets/blood-br...      14730   \n",
       "1259      https://soundcloud.com/abdo-elafany/sets/best  124394958   \n",
       "1260  https://soundcloud.com/aspecialthing/sets/best...   37599594   \n",
       "1261  https://soundcloud.com/vadhander/sets/baest-pa...    6565012   \n",
       "\n",
       "      like_count                                        artwork_url  \\\n",
       "0         387926  https://i1.sndcdn.com/artworks-000692038081-lu...   \n",
       "1            271                                                NaN   \n",
       "2         142967  https://i1.sndcdn.com/artworks-000151142988-rh...   \n",
       "3          74516  https://i1.sndcdn.com/artworks-000138365322-zx...   \n",
       "4              0                                                NaN   \n",
       "...          ...                                                ...   \n",
       "1257           0                                                NaN   \n",
       "1258        1153  https://i1.sndcdn.com/artworks-000004129539-gp...   \n",
       "1259           0                                                NaN   \n",
       "1260           8                                                NaN   \n",
       "1261           0                                                NaN   \n",
       "\n",
       "             last_modified label_name          display_date   duration  \\\n",
       "0     2021-10-11T07:22:31Z        NaN  2016-11-03T23:43:30Z    5832930   \n",
       "1     2019-08-07T21:20:42Z        NaN  2019-08-07T21:20:42Z     247376   \n",
       "2     2016-07-06T15:44:24Z        NaN  2016-02-04T19:00:30Z    3789582   \n",
       "3     2015-12-04T10:26:05Z        NaN  2015-12-04T10:07:48Z   11360541   \n",
       "4     2020-12-12T15:09:08Z        NaN  2020-07-28T13:44:42Z    7328169   \n",
       "...                    ...        ...                   ...        ...   \n",
       "1257  2020-09-29T12:11:31Z        NaN  2020-09-29T12:10:26Z   79227492   \n",
       "1258  2012-11-14T01:09:37Z        NaN  2011-01-14T00:28:23Z    7903562   \n",
       "1259  2020-12-30T08:19:30Z        NaN  2015-06-18T10:56:08Z  122538222   \n",
       "1260  2015-01-28T01:23:19Z        NaN  2015-01-28T01:23:19Z    1512619   \n",
       "1261  2021-09-28T14:38:26Z        NaN  2021-09-28T14:35:17Z   54947985   \n",
       "\n",
       "      reposts_count      kind  \n",
       "0             35975  playlist  \n",
       "1                13  playlist  \n",
       "2              9479  playlist  \n",
       "3              4372  playlist  \n",
       "4                 0  playlist  \n",
       "...             ...       ...  \n",
       "1257              0  playlist  \n",
       "1258            114  playlist  \n",
       "1259              0  playlist  \n",
       "1260              0  playlist  \n",
       "1261              0  playlist  \n",
       "\n",
       "[1262 rows x 15 columns]"
      ]
     },
     "execution_count": 65,
     "metadata": {},
     "output_type": "execute_result"
    }
   ],
   "source": [
    "# Đọc file playlists.csv\n",
    "filename = 'playlists.csv' \n",
    "playlist_df = pd.read_csv(filename, header = 0, encoding = 'utf-8')\n",
    "playlist_df"
   ]
  },
  {
   "cell_type": "code",
   "execution_count": 66,
   "id": "a46ef06e",
   "metadata": {
    "scrolled": true
   },
   "outputs": [
    {
     "name": "stdout",
     "output_type": "stream",
     "text": [
      "1262 15\n"
     ]
    }
   ],
   "source": [
    "num_rows = playlist_df.shape[0]\n",
    "num_cols = playlist_df.shape[1]\n",
    "print(num_rows, num_cols)"
   ]
  },
  {
   "cell_type": "markdown",
   "id": "5965b624",
   "metadata": {},
   "source": [
    "***Như vậy dữ liệu Playlist có 1262 dòng và 15 cột***"
   ]
  },
  {
   "cell_type": "markdown",
   "id": "8a1d619c",
   "metadata": {},
   "source": [
    "**3.2. Dữ liệu mỗi cột có bị lặp không?**"
   ]
  },
  {
   "cell_type": "code",
   "execution_count": 67,
   "id": "16511f20",
   "metadata": {},
   "outputs": [
    {
     "name": "stdout",
     "output_type": "stream",
     "text": [
      "404\n"
     ]
    }
   ],
   "source": [
    "count_duplicated = playlist_df.duplicated(keep = False).sum()\n",
    "print(count_duplicated)"
   ]
  },
  {
   "cell_type": "markdown",
   "id": "add09ea3",
   "metadata": {},
   "source": [
    "Như ta đã thấy có khá nhiều dữ liệu bị trùng. Như vậy ta sẽ xoá bớt những dữ liệu bị trùng và những cột không cần thiết."
   ]
  },
  {
   "cell_type": "code",
   "execution_count": 68,
   "id": "167a40c8",
   "metadata": {
    "scrolled": true
   },
   "outputs": [
    {
     "data": {
      "text/html": [
       "<div>\n",
       "<style scoped>\n",
       "    .dataframe tbody tr th:only-of-type {\n",
       "        vertical-align: middle;\n",
       "    }\n",
       "\n",
       "    .dataframe tbody tr th {\n",
       "        vertical-align: top;\n",
       "    }\n",
       "\n",
       "    .dataframe thead th {\n",
       "        text-align: right;\n",
       "    }\n",
       "</style>\n",
       "<table border=\"1\" class=\"dataframe\">\n",
       "  <thead>\n",
       "    <tr style=\"text-align: right;\">\n",
       "      <th></th>\n",
       "      <th>title</th>\n",
       "      <th>id</th>\n",
       "      <th>genre</th>\n",
       "      <th>created_at</th>\n",
       "      <th>permalink_url</th>\n",
       "      <th>user_id</th>\n",
       "      <th>like_count</th>\n",
       "      <th>artwork_url</th>\n",
       "      <th>last_modified</th>\n",
       "      <th>duration</th>\n",
       "      <th>reposts_count</th>\n",
       "    </tr>\n",
       "  </thead>\n",
       "  <tbody>\n",
       "    <tr>\n",
       "      <th>0</th>\n",
       "      <td>Acid Jazz</td>\n",
       "      <td>272741983</td>\n",
       "      <td>lofi-jazzflow</td>\n",
       "      <td>2016-11-03T23:43:30Z</td>\n",
       "      <td>https://soundcloud.com/lordafi/sets/acid-jazz</td>\n",
       "      <td>29407354</td>\n",
       "      <td>387926</td>\n",
       "      <td>https://i1.sndcdn.com/artworks-000692038081-lu...</td>\n",
       "      <td>2021-10-11T07:22:31Z</td>\n",
       "      <td>5832930</td>\n",
       "      <td>35975</td>\n",
       "    </tr>\n",
       "    <tr>\n",
       "      <th>1</th>\n",
       "      <td>Asala</td>\n",
       "      <td>842244773</td>\n",
       "      <td>NaN</td>\n",
       "      <td>2019-08-07T21:20:42Z</td>\n",
       "      <td>https://soundcloud.com/nancy-ahmed-156247757/s...</td>\n",
       "      <td>180359510</td>\n",
       "      <td>271</td>\n",
       "      <td>NaN</td>\n",
       "      <td>2019-08-07T21:20:42Z</td>\n",
       "      <td>247376</td>\n",
       "      <td>13</td>\n",
       "    </tr>\n",
       "    <tr>\n",
       "      <th>2</th>\n",
       "      <td>Ambient piano</td>\n",
       "      <td>192883600</td>\n",
       "      <td>slow piano</td>\n",
       "      <td>2016-02-04T19:00:30Z</td>\n",
       "      <td>https://soundcloud.com/agamidae/sets/ambient-p...</td>\n",
       "      <td>17971787</td>\n",
       "      <td>142967</td>\n",
       "      <td>https://i1.sndcdn.com/artworks-000151142988-rh...</td>\n",
       "      <td>2016-07-06T15:44:24Z</td>\n",
       "      <td>3789582</td>\n",
       "      <td>9479</td>\n",
       "    </tr>\n",
       "    <tr>\n",
       "      <th>3</th>\n",
       "      <td>As Beautiful As It Sounds</td>\n",
       "      <td>171923058</td>\n",
       "      <td>beauty</td>\n",
       "      <td>2015-12-04T10:07:48Z</td>\n",
       "      <td>https://soundcloud.com/user-961145082/sets/as-...</td>\n",
       "      <td>180441394</td>\n",
       "      <td>74516</td>\n",
       "      <td>https://i1.sndcdn.com/artworks-000138365322-zx...</td>\n",
       "      <td>2015-12-04T10:26:05Z</td>\n",
       "      <td>11360541</td>\n",
       "      <td>4372</td>\n",
       "    </tr>\n",
       "    <tr>\n",
       "      <th>4</th>\n",
       "      <td>ahmed</td>\n",
       "      <td>1100405110</td>\n",
       "      <td>NaN</td>\n",
       "      <td>2020-07-28T13:44:42Z</td>\n",
       "      <td>https://soundcloud.com/user443908231/sets/ahmed</td>\n",
       "      <td>149191020</td>\n",
       "      <td>0</td>\n",
       "      <td>NaN</td>\n",
       "      <td>2020-12-12T15:09:08Z</td>\n",
       "      <td>7328169</td>\n",
       "      <td>0</td>\n",
       "    </tr>\n",
       "    <tr>\n",
       "      <th>...</th>\n",
       "      <td>...</td>\n",
       "      <td>...</td>\n",
       "      <td>...</td>\n",
       "      <td>...</td>\n",
       "      <td>...</td>\n",
       "      <td>...</td>\n",
       "      <td>...</td>\n",
       "      <td>...</td>\n",
       "      <td>...</td>\n",
       "      <td>...</td>\n",
       "      <td>...</td>\n",
       "    </tr>\n",
       "    <tr>\n",
       "      <th>1253</th>\n",
       "      <td>Best of - Remixes</td>\n",
       "      <td>1158502336</td>\n",
       "      <td>NaN</td>\n",
       "      <td>2020-11-07T21:25:39Z</td>\n",
       "      <td>https://soundcloud.com/user-716608604-49141209...</td>\n",
       "      <td>904267432</td>\n",
       "      <td>0</td>\n",
       "      <td>NaN</td>\n",
       "      <td>2020-11-07T21:26:56Z</td>\n",
       "      <td>79358927</td>\n",
       "      <td>0</td>\n",
       "    </tr>\n",
       "    <tr>\n",
       "      <th>1255</th>\n",
       "      <td>Best of - Remixes</td>\n",
       "      <td>1143367810</td>\n",
       "      <td>NaN</td>\n",
       "      <td>2020-10-10T15:52:44Z</td>\n",
       "      <td>https://soundcloud.com/virginia-harvey-7170101...</td>\n",
       "      <td>892311355</td>\n",
       "      <td>1</td>\n",
       "      <td>NaN</td>\n",
       "      <td>2020-10-10T15:54:53Z</td>\n",
       "      <td>79227492</td>\n",
       "      <td>0</td>\n",
       "    </tr>\n",
       "    <tr>\n",
       "      <th>1258</th>\n",
       "      <td>BLOOD BROS TRILOGY</td>\n",
       "      <td>520282</td>\n",
       "      <td>Training</td>\n",
       "      <td>2011-01-14T00:28:23Z</td>\n",
       "      <td>https://soundcloud.com/maddecent/sets/blood-br...</td>\n",
       "      <td>14730</td>\n",
       "      <td>1153</td>\n",
       "      <td>https://i1.sndcdn.com/artworks-000004129539-gp...</td>\n",
       "      <td>2012-11-14T01:09:37Z</td>\n",
       "      <td>7903562</td>\n",
       "      <td>114</td>\n",
       "    </tr>\n",
       "    <tr>\n",
       "      <th>1260</th>\n",
       "      <td>Best Guy So Far</td>\n",
       "      <td>75852830</td>\n",
       "      <td>NaN</td>\n",
       "      <td>2015-01-28T01:23:19Z</td>\n",
       "      <td>https://soundcloud.com/aspecialthing/sets/best...</td>\n",
       "      <td>37599594</td>\n",
       "      <td>8</td>\n",
       "      <td>NaN</td>\n",
       "      <td>2015-01-28T01:23:19Z</td>\n",
       "      <td>1512619</td>\n",
       "      <td>0</td>\n",
       "    </tr>\n",
       "    <tr>\n",
       "      <th>1261</th>\n",
       "      <td>Bäst - part 2</td>\n",
       "      <td>1323201928</td>\n",
       "      <td>NaN</td>\n",
       "      <td>2021-09-28T14:35:17Z</td>\n",
       "      <td>https://soundcloud.com/vadhander/sets/baest-pa...</td>\n",
       "      <td>6565012</td>\n",
       "      <td>0</td>\n",
       "      <td>NaN</td>\n",
       "      <td>2021-09-28T14:38:26Z</td>\n",
       "      <td>54947985</td>\n",
       "      <td>0</td>\n",
       "    </tr>\n",
       "  </tbody>\n",
       "</table>\n",
       "<p>1045 rows × 11 columns</p>\n",
       "</div>"
      ],
      "text/plain": [
       "                          title          id          genre  \\\n",
       "0                     Acid Jazz   272741983  lofi-jazzflow   \n",
       "1                         Asala   842244773            NaN   \n",
       "2                 Ambient piano   192883600     slow piano   \n",
       "3     As Beautiful As It Sounds   171923058         beauty   \n",
       "4                         ahmed  1100405110            NaN   \n",
       "...                         ...         ...            ...   \n",
       "1253          Best of - Remixes  1158502336            NaN   \n",
       "1255          Best of - Remixes  1143367810            NaN   \n",
       "1258         BLOOD BROS TRILOGY      520282       Training   \n",
       "1260            Best Guy So Far    75852830            NaN   \n",
       "1261              Bäst - part 2  1323201928            NaN   \n",
       "\n",
       "                created_at                                      permalink_url  \\\n",
       "0     2016-11-03T23:43:30Z      https://soundcloud.com/lordafi/sets/acid-jazz   \n",
       "1     2019-08-07T21:20:42Z  https://soundcloud.com/nancy-ahmed-156247757/s...   \n",
       "2     2016-02-04T19:00:30Z  https://soundcloud.com/agamidae/sets/ambient-p...   \n",
       "3     2015-12-04T10:07:48Z  https://soundcloud.com/user-961145082/sets/as-...   \n",
       "4     2020-07-28T13:44:42Z    https://soundcloud.com/user443908231/sets/ahmed   \n",
       "...                    ...                                                ...   \n",
       "1253  2020-11-07T21:25:39Z  https://soundcloud.com/user-716608604-49141209...   \n",
       "1255  2020-10-10T15:52:44Z  https://soundcloud.com/virginia-harvey-7170101...   \n",
       "1258  2011-01-14T00:28:23Z  https://soundcloud.com/maddecent/sets/blood-br...   \n",
       "1260  2015-01-28T01:23:19Z  https://soundcloud.com/aspecialthing/sets/best...   \n",
       "1261  2021-09-28T14:35:17Z  https://soundcloud.com/vadhander/sets/baest-pa...   \n",
       "\n",
       "        user_id  like_count  \\\n",
       "0      29407354      387926   \n",
       "1     180359510         271   \n",
       "2      17971787      142967   \n",
       "3     180441394       74516   \n",
       "4     149191020           0   \n",
       "...         ...         ...   \n",
       "1253  904267432           0   \n",
       "1255  892311355           1   \n",
       "1258      14730        1153   \n",
       "1260   37599594           8   \n",
       "1261    6565012           0   \n",
       "\n",
       "                                            artwork_url         last_modified  \\\n",
       "0     https://i1.sndcdn.com/artworks-000692038081-lu...  2021-10-11T07:22:31Z   \n",
       "1                                                   NaN  2019-08-07T21:20:42Z   \n",
       "2     https://i1.sndcdn.com/artworks-000151142988-rh...  2016-07-06T15:44:24Z   \n",
       "3     https://i1.sndcdn.com/artworks-000138365322-zx...  2015-12-04T10:26:05Z   \n",
       "4                                                   NaN  2020-12-12T15:09:08Z   \n",
       "...                                                 ...                   ...   \n",
       "1253                                                NaN  2020-11-07T21:26:56Z   \n",
       "1255                                                NaN  2020-10-10T15:54:53Z   \n",
       "1258  https://i1.sndcdn.com/artworks-000004129539-gp...  2012-11-14T01:09:37Z   \n",
       "1260                                                NaN  2015-01-28T01:23:19Z   \n",
       "1261                                                NaN  2021-09-28T14:38:26Z   \n",
       "\n",
       "      duration  reposts_count  \n",
       "0      5832930          35975  \n",
       "1       247376             13  \n",
       "2      3789582           9479  \n",
       "3     11360541           4372  \n",
       "4      7328169              0  \n",
       "...        ...            ...  \n",
       "1253  79358927              0  \n",
       "1255  79227492              0  \n",
       "1258   7903562            114  \n",
       "1260   1512619              0  \n",
       "1261  54947985              0  \n",
       "\n",
       "[1045 rows x 11 columns]"
      ]
     },
     "execution_count": 68,
     "metadata": {},
     "output_type": "execute_result"
    }
   ],
   "source": [
    "playlist_df = playlist_df.drop_duplicates()\n",
    "playlist_df = playlist_df.drop(['description', 'label_name', 'display_date', 'kind'], axis = 1)\n",
    "playlist_df"
   ]
  },
  {
   "cell_type": "markdown",
   "id": "5655db3a",
   "metadata": {},
   "source": [
    "**3.3. Dữ liệu nói lên điều gì?**"
   ]
  },
  {
   "cell_type": "markdown",
   "id": "33864703",
   "metadata": {},
   "source": [
    "Ta bắt đầu tìm hiểu từng cột, qua các tên cột và dữ liệu của nó, ta thấy rằng:\n",
    "\n",
    "- `title`: Tên của Playlist\n",
    "- `id`: ID của Playlist\n",
    "- `genre`: Thể loại Playlist\n",
    "- `created_at`: Ngày Upload Playlist\n",
    "- `permalink_url`: Link dẫn đến Playlist\n",
    "- `user_id`: ID của User tạo Playlist\n",
    "- `like_count`: Số lượng người thích Playlist này\n",
    "- `artwork_url`: Link ảnh minh hoạ của Playlist\n",
    "- `last_modified`: Thời điểm lần cuối Playlist hoạt động chỉnh sửa\n",
    "- `duration`: thời gian phát của Playlist\n",
    "- `reposts_count`: Số lượng người dùng repost Playlist"
   ]
  },
  {
   "cell_type": "markdown",
   "id": "967804ec",
   "metadata": {},
   "source": [
    "Ta sẽ tìm hiểu từng cột mang kiểu dữ liệu gì."
   ]
  },
  {
   "cell_type": "code",
   "execution_count": 69,
   "id": "4405b0c3",
   "metadata": {},
   "outputs": [
    {
     "data": {
      "text/plain": [
       "title            object\n",
       "id                int64\n",
       "genre            object\n",
       "created_at       object\n",
       "permalink_url    object\n",
       "user_id           int64\n",
       "like_count        int64\n",
       "artwork_url      object\n",
       "last_modified    object\n",
       "duration          int64\n",
       "reposts_count     int64\n",
       "dtype: object"
      ]
     },
     "execution_count": 69,
     "metadata": {},
     "output_type": "execute_result"
    }
   ],
   "source": [
    "col_dtypes = playlist_df.dtypes\n",
    "col_dtypes"
   ]
  },
  {
   "cell_type": "markdown",
   "id": "89f01ace",
   "metadata": {},
   "source": [
    "Các nhân viên phân tích dữ liệu sẽ quan tâm gì đến trong bảng này? Thì ta giả định rằng để thống kê mức độ yêu thích của những Playlist theo từng năm, họ sẽ quan tâm đến các cột: `genre`, `create_at`,`like_count`"
   ]
  },
  {
   "cell_type": "markdown",
   "id": "d4dd556c",
   "metadata": {},
   "source": [
    "Tiền xử lý:\n",
    "- Chuyển cột `created_at` thành kiểu dữ liệu \"datetime\".\n",
    "- Cột `genre` thành kiểu \"string\"."
   ]
  },
  {
   "cell_type": "code",
   "execution_count": 70,
   "id": "253d3134",
   "metadata": {
    "scrolled": true
   },
   "outputs": [],
   "source": [
    "a = lambda x: datetime.strptime(x, '%Y-%m-%dT%XZ')\n",
    "playlist_df.created_at = playlist_df.created_at.apply(a)\n",
    "playlist_df.last_modified = playlist_df.last_modified.apply(a)"
   ]
  },
  {
   "cell_type": "markdown",
   "id": "c0cb6597",
   "metadata": {},
   "source": [
    "**3.3.a) Thể loại phổ biến nhất theo từng năm của Playlist là những thể loại gì?**"
   ]
  },
  {
   "cell_type": "code",
   "execution_count": 71,
   "id": "006c5ebb",
   "metadata": {
    "scrolled": false
   },
   "outputs": [
    {
     "data": {
      "text/html": [
       "<div>\n",
       "<style scoped>\n",
       "    .dataframe tbody tr th:only-of-type {\n",
       "        vertical-align: middle;\n",
       "    }\n",
       "\n",
       "    .dataframe tbody tr th {\n",
       "        vertical-align: top;\n",
       "    }\n",
       "\n",
       "    .dataframe thead th {\n",
       "        text-align: right;\n",
       "    }\n",
       "</style>\n",
       "<table border=\"1\" class=\"dataframe\">\n",
       "  <thead>\n",
       "    <tr style=\"text-align: right;\">\n",
       "      <th></th>\n",
       "      <th>genre</th>\n",
       "      <th>like_count</th>\n",
       "      <th>reposts_count</th>\n",
       "    </tr>\n",
       "    <tr>\n",
       "      <th>created_at</th>\n",
       "      <th></th>\n",
       "      <th></th>\n",
       "      <th></th>\n",
       "    </tr>\n",
       "  </thead>\n",
       "  <tbody>\n",
       "    <tr>\n",
       "      <th>2011</th>\n",
       "      <td>[Training]</td>\n",
       "      <td>[1153]</td>\n",
       "      <td>[114]</td>\n",
       "    </tr>\n",
       "    <tr>\n",
       "      <th>2012</th>\n",
       "      <td>[News, Rock, Techno]</td>\n",
       "      <td>[12, 97, 3536]</td>\n",
       "      <td>[3, 24, 528]</td>\n",
       "    </tr>\n",
       "    <tr>\n",
       "      <th>2013</th>\n",
       "      <td>[World, Meditation, American Young, Comedy, El...</td>\n",
       "      <td>[4622, 4609, 880, 50, 17, 8, 4971, 305, 15393,...</td>\n",
       "      <td>[1355, 971, 342, 8, 2, 1, 1459, 44, 2313, 7, 2...</td>\n",
       "    </tr>\n",
       "    <tr>\n",
       "      <th>2014</th>\n",
       "      <td>[Rock music, Tamer Ashour, Electronic, Comedy,...</td>\n",
       "      <td>[7860, 33030, 5624, 27, 3569, 263, 9549, 45, 4...</td>\n",
       "      <td>[1463, 7826, 1657, 6, 695, 88, 2216, 2, 88, 73...</td>\n",
       "    </tr>\n",
       "    <tr>\n",
       "      <th>2015</th>\n",
       "      <td>[beauty, tropical house, Electronic, this is n...</td>\n",
       "      <td>[74516, 57393, 7817, 6552, 17392, 32808, 36254...</td>\n",
       "      <td>[4372, 5602, 1135, 1862, 3299, 4287, 4462, 151...</td>\n",
       "    </tr>\n",
       "    <tr>\n",
       "      <th>2016</th>\n",
       "      <td>[lofi-jazzflow, slow piano, slow piano, slow p...</td>\n",
       "      <td>[387926, 142967, 142972, 142971, 1231, 19, 133...</td>\n",
       "      <td>[35975, 9479, 9479, 9479, 108, 3, 3253, 619, 1...</td>\n",
       "    </tr>\n",
       "    <tr>\n",
       "      <th>2017</th>\n",
       "      <td>[R&amp;B, Electronic, Electronic, Background Music...</td>\n",
       "      <td>[34427, 13293, 394, 513, 1, 25257, 9215, 2061,...</td>\n",
       "      <td>[2097, 977, 70, 15, 0, 2398, 392, 441, 387, 15...</td>\n",
       "    </tr>\n",
       "    <tr>\n",
       "      <th>2018</th>\n",
       "      <td>[R&amp;B, Hip-hop &amp; Rap, World, Hip-hop &amp; Rap, Lo-...</td>\n",
       "      <td>[30619, 17541, 37817, 17542, 16394, 354, 9823,...</td>\n",
       "      <td>[1807, 2015, 1125, 2015, 966, 6, 1567, 0, 9261...</td>\n",
       "    </tr>\n",
       "    <tr>\n",
       "      <th>2019</th>\n",
       "      <td>[Alternative Rock, Alternative Rock, Drum &amp; Bass]</td>\n",
       "      <td>[7852, 3, 61]</td>\n",
       "      <td>[597, 1, 4]</td>\n",
       "    </tr>\n",
       "    <tr>\n",
       "      <th>2020</th>\n",
       "      <td>[Pop, Techno, Soundtrack, Hip-hop &amp; Rap, Hip-h...</td>\n",
       "      <td>[55, 5211, 1852, 3932, 19477, 47, 67]</td>\n",
       "      <td>[12, 953, 189, 168, 1015, 3, 9]</td>\n",
       "    </tr>\n",
       "    <tr>\n",
       "      <th>2021</th>\n",
       "      <td>[Pop, Alt Mood, Anthems, Latin]</td>\n",
       "      <td>[35, 0, 5, 155]</td>\n",
       "      <td>[6, 0, 0, 3]</td>\n",
       "    </tr>\n",
       "  </tbody>\n",
       "</table>\n",
       "</div>"
      ],
      "text/plain": [
       "                                                        genre  \\\n",
       "created_at                                                      \n",
       "2011                                               [Training]   \n",
       "2012                                     [News, Rock, Techno]   \n",
       "2013        [World, Meditation, American Young, Comedy, El...   \n",
       "2014        [Rock music, Tamer Ashour, Electronic, Comedy,...   \n",
       "2015        [beauty, tropical house, Electronic, this is n...   \n",
       "2016        [lofi-jazzflow, slow piano, slow piano, slow p...   \n",
       "2017        [R&B, Electronic, Electronic, Background Music...   \n",
       "2018        [R&B, Hip-hop & Rap, World, Hip-hop & Rap, Lo-...   \n",
       "2019        [Alternative Rock, Alternative Rock, Drum & Bass]   \n",
       "2020        [Pop, Techno, Soundtrack, Hip-hop & Rap, Hip-h...   \n",
       "2021                          [Pop, Alt Mood, Anthems, Latin]   \n",
       "\n",
       "                                                   like_count  \\\n",
       "created_at                                                      \n",
       "2011                                                   [1153]   \n",
       "2012                                           [12, 97, 3536]   \n",
       "2013        [4622, 4609, 880, 50, 17, 8, 4971, 305, 15393,...   \n",
       "2014        [7860, 33030, 5624, 27, 3569, 263, 9549, 45, 4...   \n",
       "2015        [74516, 57393, 7817, 6552, 17392, 32808, 36254...   \n",
       "2016        [387926, 142967, 142972, 142971, 1231, 19, 133...   \n",
       "2017        [34427, 13293, 394, 513, 1, 25257, 9215, 2061,...   \n",
       "2018        [30619, 17541, 37817, 17542, 16394, 354, 9823,...   \n",
       "2019                                            [7852, 3, 61]   \n",
       "2020                    [55, 5211, 1852, 3932, 19477, 47, 67]   \n",
       "2021                                          [35, 0, 5, 155]   \n",
       "\n",
       "                                                reposts_count  \n",
       "created_at                                                     \n",
       "2011                                                    [114]  \n",
       "2012                                             [3, 24, 528]  \n",
       "2013        [1355, 971, 342, 8, 2, 1, 1459, 44, 2313, 7, 2...  \n",
       "2014        [1463, 7826, 1657, 6, 695, 88, 2216, 2, 88, 73...  \n",
       "2015        [4372, 5602, 1135, 1862, 3299, 4287, 4462, 151...  \n",
       "2016        [35975, 9479, 9479, 9479, 108, 3, 3253, 619, 1...  \n",
       "2017        [2097, 977, 70, 15, 0, 2398, 392, 441, 387, 15...  \n",
       "2018        [1807, 2015, 1125, 2015, 966, 6, 1567, 0, 9261...  \n",
       "2019                                              [597, 1, 4]  \n",
       "2020                          [12, 953, 189, 168, 1015, 3, 9]  \n",
       "2021                                             [6, 0, 0, 3]  "
      ]
     },
     "execution_count": 71,
     "metadata": {},
     "output_type": "execute_result"
    }
   ],
   "source": [
    "# Lấy mẫu dữ liệu (dựa trên lượng like nhiều nhất)\n",
    "res_df = playlist_df.dropna()\n",
    "res_df = res_df[['genre', 'created_at','like_count', 'reposts_count']]\n",
    "res_df.created_at = res_df.created_at.apply(lambda x: x.year)\n",
    "res_df = res_df.groupby(['created_at']).agg({'genre': lambda x: x.tolist(), \n",
    "                                             'like_count': lambda x: x.tolist(), 'reposts_count': lambda x: x.tolist()})\n",
    "res_df"
   ]
  },
  {
   "cell_type": "code",
   "execution_count": 72,
   "id": "d817b3fc",
   "metadata": {},
   "outputs": [],
   "source": [
    "# Tính số liệu cần thiết\n",
    "def find_max(x):\n",
    "    return max(x)\n",
    "def find_max_index(x):\n",
    "    return x.index(max(x))\n",
    "arr = res_df.like_count.apply(find_max_index).tolist()\n",
    "i=-1\n",
    "def find_genre(x):\n",
    "    global i \n",
    "    i = i+1\n",
    "    return x[arr[i]]\n",
    "genre = res_df.genre.apply(find_genre).values\n",
    "like = res_df.like_count.apply(find_max).values\n",
    "repost = res_df.reposts_count.apply(find_max).values"
   ]
  },
  {
   "cell_type": "code",
   "execution_count": 73,
   "id": "f1319754",
   "metadata": {
    "scrolled": true
   },
   "outputs": [
    {
     "data": {
      "text/html": [
       "<style  type=\"text/css\" >\n",
       "#T_c9442_row0_col0,#T_c9442_row1_col0,#T_c9442_row2_col0,#T_c9442_row3_col0,#T_c9442_row4_col0,#T_c9442_row5_col0,#T_c9442_row6_col0,#T_c9442_row7_col0,#T_c9442_row8_col0,#T_c9442_row9_col0,#T_c9442_row10_col0{\n",
       "            background-color:  pink;\n",
       "            color:  brown;\n",
       "        }</style><table id=\"T_c9442_\" ><thead>    <tr>        <th class=\"blank level0\" ></th>        <th class=\"col_heading level0 col0\" >Genre</th>    </tr></thead><tbody>\n",
       "                <tr>\n",
       "                        <th id=\"T_c9442_level0_row0\" class=\"row_heading level0 row0\" >2011</th>\n",
       "                        <td id=\"T_c9442_row0_col0\" class=\"data row0 col0\" >Training</td>\n",
       "            </tr>\n",
       "            <tr>\n",
       "                        <th id=\"T_c9442_level0_row1\" class=\"row_heading level0 row1\" >2012</th>\n",
       "                        <td id=\"T_c9442_row1_col0\" class=\"data row1 col0\" >Techno</td>\n",
       "            </tr>\n",
       "            <tr>\n",
       "                        <th id=\"T_c9442_level0_row2\" class=\"row_heading level0 row2\" >2013</th>\n",
       "                        <td id=\"T_c9442_row2_col0\" class=\"data row2 col0\" >Underground</td>\n",
       "            </tr>\n",
       "            <tr>\n",
       "                        <th id=\"T_c9442_level0_row3\" class=\"row_heading level0 row3\" >2014</th>\n",
       "                        <td id=\"T_c9442_row3_col0\" class=\"data row3 col0\" >Tamer Ashour</td>\n",
       "            </tr>\n",
       "            <tr>\n",
       "                        <th id=\"T_c9442_level0_row4\" class=\"row_heading level0 row4\" >2015</th>\n",
       "                        <td id=\"T_c9442_row4_col0\" class=\"data row4 col0\" >beauty</td>\n",
       "            </tr>\n",
       "            <tr>\n",
       "                        <th id=\"T_c9442_level0_row5\" class=\"row_heading level0 row5\" >2016</th>\n",
       "                        <td id=\"T_c9442_row5_col0\" class=\"data row5 col0\" >lofi-jazzflow</td>\n",
       "            </tr>\n",
       "            <tr>\n",
       "                        <th id=\"T_c9442_level0_row6\" class=\"row_heading level0 row6\" >2017</th>\n",
       "                        <td id=\"T_c9442_row6_col0\" class=\"data row6 col0\" >R&B</td>\n",
       "            </tr>\n",
       "            <tr>\n",
       "                        <th id=\"T_c9442_level0_row7\" class=\"row_heading level0 row7\" >2018</th>\n",
       "                        <td id=\"T_c9442_row7_col0\" class=\"data row7 col0\" >World</td>\n",
       "            </tr>\n",
       "            <tr>\n",
       "                        <th id=\"T_c9442_level0_row8\" class=\"row_heading level0 row8\" >2019</th>\n",
       "                        <td id=\"T_c9442_row8_col0\" class=\"data row8 col0\" >Alternative Rock</td>\n",
       "            </tr>\n",
       "            <tr>\n",
       "                        <th id=\"T_c9442_level0_row9\" class=\"row_heading level0 row9\" >2020</th>\n",
       "                        <td id=\"T_c9442_row9_col0\" class=\"data row9 col0\" >Hip-hop & Rap</td>\n",
       "            </tr>\n",
       "            <tr>\n",
       "                        <th id=\"T_c9442_level0_row10\" class=\"row_heading level0 row10\" >2021</th>\n",
       "                        <td id=\"T_c9442_row10_col0\" class=\"data row10 col0\" >Latin</td>\n",
       "            </tr>\n",
       "    </tbody></table>"
      ],
      "text/plain": [
       "<pandas.io.formats.style.Styler at 0x2635a1fe190>"
      ]
     },
     "execution_count": 73,
     "metadata": {},
     "output_type": "execute_result"
    }
   ],
   "source": [
    "# Dataframe của Genre\n",
    "data = {'Genre': genre}\n",
    "genre_df = pd.DataFrame(data = data, index = res_df.index.values)\n",
    "genre_df.style.set_properties(**{'background-color': 'pink',\n",
    "                           'color': 'brown'})"
   ]
  },
  {
   "cell_type": "markdown",
   "id": "0ddb56d7",
   "metadata": {},
   "source": [
    "**3.3.b) Lượng like và repost qua từng năm thay đổi như thế nào? Tăng hay giảm?**\n",
    "- Ta có thể biết được mức độ yêu thích của người dùng đối với những Playlist có genre được yêu thích nhất năm.\n",
    "- Biết được lượng tương tác của người dùng, qua đó suy ra được số lượng người dùng trên Soundcloud.\n"
   ]
  },
  {
   "cell_type": "code",
   "execution_count": 74,
   "id": "b5a15dc2",
   "metadata": {
    "scrolled": true
   },
   "outputs": [
    {
     "data": {
      "image/png": "[encoded data removed]",
      "text/plain": [
       "<Figure size 576x576 with 2 Axes>"
      ]
     },
     "metadata": {
      "needs_background": "light"
     },
     "output_type": "display_data"
    }
   ],
   "source": [
    "# Vẽ biểu đồ cho Like và Repost\n",
    "df = pd.DataFrame({'likes': like,\n",
    "                   'reposts': repost}, index=res_df.index.values)\n",
    "ax = df.plot.bar(subplots = True,rot=0, color = {\"reposts\": \"orchid\", \"likes\": \"orange\"},figsize=(8,8))"
   ]
  },
  {
   "cell_type": "markdown",
   "id": "32772fc2",
   "metadata": {},
   "source": [
    "Lượng like và repost đều có giá trị lớn nhất vào năm 2016."
   ]
  },
  {
   "cell_type": "markdown",
   "id": "aa68be48",
   "metadata": {},
   "source": [
    "#### Gộp hai biểu đồ lại để trực quan hơn:"
   ]
  },
  {
   "cell_type": "code",
   "execution_count": 75,
   "id": "e9319aa2",
   "metadata": {},
   "outputs": [
    {
     "data": {
      "image/png": "[encoded data removed]",
      "text/plain": [
       "<Figure size 576x360 with 1 Axes>"
      ]
     },
     "metadata": {
      "needs_background": "light"
     },
     "output_type": "display_data"
    }
   ],
   "source": [
    "ax = df.plot.bar(rot = 0, figsize=(8, 5))"
   ]
  },
  {
   "cell_type": "markdown",
   "id": "6e114de5",
   "metadata": {},
   "source": [
    "#### Nhận xét: \n",
    "- Chênh lệch lớn giữa số lượng like và repost.\n",
    "- Số lượng repost Playlist hầu như tỉ lệ thuận với số lượng like Playlist --> Người dùng có xu hướng repost Playlist về trang cá nhân của họ sau khi like Playlist đó.\n",
    "- Vào năm 2017, số lượng like và repost trên Souncloud giảm mạnh, tăng lên vào 2018 nhưng không đáng kể và kể từ năm 2019 lại giảm rõ rệt. Có thể người dùng đã tìm được nền tảng đem đến trải nghiệm tốt hơn và dần dần giảm thời gian sử dụng sử dụng SoundCloud."
   ]
  },
  {
   "cell_type": "markdown",
   "id": "e0b456d5",
   "metadata": {},
   "source": [
    "## KẾT LUẬN:"
   ]
  },
  {
   "cell_type": "markdown",
   "id": "db9e6eb6",
   "metadata": {},
   "source": [
    "Qua 3 phần phân tích dữ liệu với 3 File dữ liệu Users, Tracks, Playlists, ta đã phát hiện và đưa ra nhận xét được nhiều điều thú vị xoay quanh những dữ liệu này:\n",
    "- Biết được hoạt động của người dùng đang chủ yếu hướng tới là làm gì khi sử dụng, tương tác trên trang web, ứng dụng.\n",
    "- Nhận thấy rõ được sự quan tâm của người dùng đối với các thể loại nhạc và xu hướng qua từng năm.\n",
    "- Thể hiện tương đối thông tin phủ sóng người dùng sử dụng web, ứng dụng đến từ châu lục và quốc gia nào."
   ]
  },
  {
   "cell_type": "markdown",
   "id": "8820b349",
   "metadata": {},
   "source": [
    "Nhân viên phân tích dữ liệu có thể rút ra được những nhận xét, kết luận này lên bộ phận công ty và thay đổi chiến lược phát triển, marketing của công ty cho phù hợp với mục tiêu, kế hoạch phát triển của họ."
   ]
  },
  {
   "cell_type": "markdown",
   "id": "cdc3af72",
   "metadata": {},
   "source": [
    "## NHÌN LẠI QUÁ TRÌNH LÀM ĐỒ ÁN:"
   ]
  },
  {
   "cell_type": "markdown",
   "id": "cde9ba96",
   "metadata": {},
   "source": [
    "- Có nhiều sai sót, trục trặc trong quá trình làm từng phần nhưng cuối cùng cũng sửa được nhờ sự giúp đỡ, phối hợp của cả 2 người.\n",
    "- Phát hiện trong quá trình thực hiện Collect data đã làm cho mình càng ngày say mê ngành KHDL này và tiếp tục thử nghiệm trên nhiều trang web khác.\n",
    "- Visualize, phân tích các data tự mình Collect được và rút ra được những kết luận thú vị khi ở vị trí là một Data Scientist của một công ty cần khám phá dữ liệu. Nó sinh động và lôi cuốn mình vào thế giới đẹp đẽ của dữ liệu.\n",
    "- Qua những góp ý chân thành của các bạn nhóm 03, nhóm đã rút ra được nhiều điều hay và chỉnh sửa bài làm của mình một cách chỉn chủ và gọn gàng, đúng yêu cầu, đúng trọng tâm để làm cho bài làm của nhóm ngày càng hoàn hảo hơn.\n",
    "- Đồ án này đã giúp cho chúng em có một cái nhìn tổng quan nhất khi phân tích dữ liệu và thu thập dữ liệu và nhận ra những sai sót, khuyết điểm trong cách suy nghĩ và đặt câu hỏi tập trung vào vấn đề, chọn lựa tập dữ liệu đầy đủ, chính xácđể phân tích."
   ]
  },
  {
   "cell_type": "markdown",
   "id": "1d6c1ee9",
   "metadata": {},
   "source": [
    "## TÀI LIỆU THAM KHẢO:\n"
   ]
  },
  {
   "cell_type": "markdown",
   "id": "ade4ca53",
   "metadata": {},
   "source": [
    "- Document của các thư viện Pandas, Numpy, BeautifulSoup, Matplotlb, ...\n",
    "- Trang Youtube hướng dẫn sử dụng Beautiful Soup\n",
    "- Nhóm có tham khảo về địa chỉ API của SoundCloud từ các anh/chị TA. "
   ]
  },
  {
   "cell_type": "markdown",
   "id": "53866104",
   "metadata": {},
   "source": [
    "                                            --- HẾT ---"
   ]
  }
 ],
 "metadata": {
  "kernelspec": {
   "display_name": "Python 3 (ipykernel)",
   "language": "python",
   "name": "python3"
  },
  "language_info": {
   "codemirror_mode": {
    "name": "ipython",
    "version": 3
   },
   "file_extension": ".py",
   "mimetype": "text/x-python",
   "name": "python",
   "nbconvert_exporter": "python",
   "pygments_lexer": "ipython3",
   "version": "3.8.8"
  }
 },
 "nbformat": 4,
 "nbformat_minor": 5
}
